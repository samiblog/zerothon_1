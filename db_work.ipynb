{
 "cells": [
  {
   "cell_type": "code",
   "execution_count": 1,
   "id": "196288cb",
   "metadata": {},
   "outputs": [],
   "source": [
    "import pandas as pd"
   ]
  },
  {
   "cell_type": "code",
   "execution_count": 2,
   "id": "0cf9a30e",
   "metadata": {},
   "outputs": [],
   "source": [
    "import glob\n",
    "\n",
    "csv_files = glob.glob(\"DATA/*.csv\")"
   ]
  },
  {
   "cell_type": "code",
   "execution_count": 5,
   "id": "8336a86e",
   "metadata": {},
   "outputs": [],
   "source": [
    "data_list = []\n",
    "for csv in csv_files:\n",
    "    csv = csv.replace('.csv', '')\n",
    "    tname = csv.split('\\\\')[-1]\n",
    "    dbname = tname.split('_')[0]\n",
    "    itemname = tname.split('_')[1]\n",
    "    data_list.append({\n",
    "        'dbname': dbname,\n",
    "        'itemname': itemname,\n",
    "    })\n"
   ]
  },
  {
   "cell_type": "code",
   "execution_count": 6,
   "id": "567f6f52",
   "metadata": {},
   "outputs": [
    {
     "data": {
      "text/plain": [
       "[{'dbname': 'ECOS', 'itemname': 'KRW'},\n",
       " {'dbname': 'FRED', 'itemname': 'DCOILWTICO'},\n",
       " {'dbname': 'FRED', 'itemname': 'DEXCHUS'},\n",
       " {'dbname': 'FRED', 'itemname': 'DEXJPUS'},\n",
       " {'dbname': 'FRED', 'itemname': 'DEXUSEU'},\n",
       " {'dbname': 'FRED', 'itemname': 'DGS10'},\n",
       " {'dbname': 'FRED', 'itemname': 'DTWEXBGS'},\n",
       " {'dbname': 'FRED', 'itemname': 'SP500'},\n",
       " {'dbname': 'XBBG', 'itemname': 'CNY'},\n",
       " {'dbname': 'XBBG', 'itemname': 'DXY'},\n",
       " {'dbname': 'XBBG', 'itemname': 'GOLD'},\n",
       " {'dbname': 'XBBG', 'itemname': 'NICKEL'},\n",
       " {'dbname': 'XBBG', 'itemname': 'SP500'},\n",
       " {'dbname': 'XBBG', 'itemname': 'USGG10YR'},\n",
       " {'dbname': 'XBBG', 'itemname': 'WTI'}]"
      ]
     },
     "execution_count": 6,
     "metadata": {},
     "output_type": "execute_result"
    }
   ],
   "source": [
    "data_list"
   ]
  },
  {
   "cell_type": "code",
   "execution_count": 11,
   "id": "246881b9",
   "metadata": {},
   "outputs": [
    {
     "data": {
      "text/plain": [
       "date     datetime64[ns]\n",
       "value           float64\n",
       "name             object\n",
       "dtype: object"
      ]
     },
     "execution_count": 11,
     "metadata": {},
     "output_type": "execute_result"
    }
   ],
   "source": [
    "df = pd.read_csv(csv_files[0], parse_dates=[\"date\"])\n",
    "df.dtypes"
   ]
  },
  {
   "cell_type": "code",
   "execution_count": 12,
   "id": "17a31bf1",
   "metadata": {},
   "outputs": [
    {
     "data": {
      "text/html": [
       "<div>\n",
       "<style scoped>\n",
       "    .dataframe tbody tr th:only-of-type {\n",
       "        vertical-align: middle;\n",
       "    }\n",
       "\n",
       "    .dataframe tbody tr th {\n",
       "        vertical-align: top;\n",
       "    }\n",
       "\n",
       "    .dataframe thead th {\n",
       "        text-align: right;\n",
       "    }\n",
       "</style>\n",
       "<table border=\"1\" class=\"dataframe\">\n",
       "  <thead>\n",
       "    <tr style=\"text-align: right;\">\n",
       "      <th></th>\n",
       "      <th>date</th>\n",
       "      <th>value</th>\n",
       "      <th>name</th>\n",
       "    </tr>\n",
       "  </thead>\n",
       "  <tbody>\n",
       "    <tr>\n",
       "      <th>0</th>\n",
       "      <td>1964-05-04</td>\n",
       "      <td>255.77</td>\n",
       "      <td>KRW</td>\n",
       "    </tr>\n",
       "    <tr>\n",
       "      <th>1</th>\n",
       "      <td>1964-05-05</td>\n",
       "      <td>255.77</td>\n",
       "      <td>KRW</td>\n",
       "    </tr>\n",
       "    <tr>\n",
       "      <th>2</th>\n",
       "      <td>1964-05-06</td>\n",
       "      <td>255.77</td>\n",
       "      <td>KRW</td>\n",
       "    </tr>\n",
       "    <tr>\n",
       "      <th>3</th>\n",
       "      <td>1964-05-07</td>\n",
       "      <td>255.77</td>\n",
       "      <td>KRW</td>\n",
       "    </tr>\n",
       "    <tr>\n",
       "      <th>4</th>\n",
       "      <td>1964-05-08</td>\n",
       "      <td>255.77</td>\n",
       "      <td>KRW</td>\n",
       "    </tr>\n",
       "    <tr>\n",
       "      <th>...</th>\n",
       "      <td>...</td>\n",
       "      <td>...</td>\n",
       "      <td>...</td>\n",
       "    </tr>\n",
       "    <tr>\n",
       "      <th>16377</th>\n",
       "      <td>2025-06-02</td>\n",
       "      <td>1373.10</td>\n",
       "      <td>KRW</td>\n",
       "    </tr>\n",
       "    <tr>\n",
       "      <th>16378</th>\n",
       "      <td>2025-06-04</td>\n",
       "      <td>1369.50</td>\n",
       "      <td>KRW</td>\n",
       "    </tr>\n",
       "    <tr>\n",
       "      <th>16379</th>\n",
       "      <td>2025-06-05</td>\n",
       "      <td>1358.40</td>\n",
       "      <td>KRW</td>\n",
       "    </tr>\n",
       "    <tr>\n",
       "      <th>16380</th>\n",
       "      <td>2025-06-09</td>\n",
       "      <td>1356.40</td>\n",
       "      <td>KRW</td>\n",
       "    </tr>\n",
       "    <tr>\n",
       "      <th>16381</th>\n",
       "      <td>2025-06-10</td>\n",
       "      <td>1364.30</td>\n",
       "      <td>KRW</td>\n",
       "    </tr>\n",
       "  </tbody>\n",
       "</table>\n",
       "<p>16382 rows × 3 columns</p>\n",
       "</div>"
      ],
      "text/plain": [
       "            date    value name\n",
       "0     1964-05-04   255.77  KRW\n",
       "1     1964-05-05   255.77  KRW\n",
       "2     1964-05-06   255.77  KRW\n",
       "3     1964-05-07   255.77  KRW\n",
       "4     1964-05-08   255.77  KRW\n",
       "...          ...      ...  ...\n",
       "16377 2025-06-02  1373.10  KRW\n",
       "16378 2025-06-04  1369.50  KRW\n",
       "16379 2025-06-05  1358.40  KRW\n",
       "16380 2025-06-09  1356.40  KRW\n",
       "16381 2025-06-10  1364.30  KRW\n",
       "\n",
       "[16382 rows x 3 columns]"
      ]
     },
     "execution_count": 12,
     "metadata": {},
     "output_type": "execute_result"
    }
   ],
   "source": [
    "df"
   ]
  },
  {
   "cell_type": "code",
   "execution_count": 13,
   "id": "e33d06e5",
   "metadata": {},
   "outputs": [],
   "source": [
    "import pymysql"
   ]
  },
  {
   "cell_type": "code",
   "execution_count": null,
   "id": "94f4f172",
   "metadata": {},
   "outputs": [],
   "source": [
    "import os\n",
    "from dotenv import load_dotenv\n",
    "\n",
    "load_dotenv()"
   ]
  },
  {
   "cell_type": "code",
   "execution_count": null,
   "id": "37241920",
   "metadata": {},
   "outputs": [],
   "source": [
    "host = os.getenv(\"db_host\")\n",
    "user = os.getenv(\"db_user\")\n",
    "password = os.getenv(\"db_password\")\n",
    "database = os.getenv(\"db_database\")"
   ]
  },
  {
   "cell_type": "code",
   "execution_count": null,
   "id": "89854305",
   "metadata": {},
   "outputs": [],
   "source": [
    "# 2. DB 접속 정보\n",
    "conn = pymysql.connect(\n",
    "    host=host,\n",
    "    user=user,\n",
    "    password=password,\n",
    "    database=database,\n",
    "    charset=\"utf8mb4\",\n",
    "    cursorclass=pymysql.cursors.DictCursor\n",
    ")\n",
    "cursor = conn.cursor()\n"
   ]
  },
  {
   "cell_type": "code",
   "execution_count": null,
   "id": "f6dc5016",
   "metadata": {},
   "outputs": [],
   "source": []
  },
  {
   "cell_type": "code",
   "execution_count": 20,
   "id": "0d7566e8",
   "metadata": {},
   "outputs": [],
   "source": [
    "def insert_dataframe_to_mysql(table_name: str, df: pd.DataFrame, conn):\n",
    "    \"\"\"\n",
    "    DataFrame을 MySQL에 삽입하는 함수.\n",
    "    테이블이 없으면 생성하고, 있으면 그대로 INSERT 수행.\n",
    "    \n",
    "    :param table_name: 생성 또는 삽입할 테이블 이름\n",
    "    :param df: pandas DataFrame (columns: date, value, item)\n",
    "    :param conn: pymysql 커넥션 객체\n",
    "    \"\"\"\n",
    "    cursor = conn.cursor()\n",
    "\n",
    "    # 1. 테이블 존재 여부 확인\n",
    "    check_sql = \"\"\"\n",
    "        SELECT COUNT(*) AS count \n",
    "        FROM information_schema.tables \n",
    "        WHERE table_schema = DATABASE() AND table_name = %s\n",
    "    \"\"\"\n",
    "    cursor.execute(check_sql, (table_name,))\n",
    "    result = cursor.fetchone()\n",
    "\n",
    "    # 2. 테이블이 없다면 생성\n",
    "    if result[\"count\"] == 0:\n",
    "        create_sql = f\"\"\"\n",
    "        CREATE TABLE {table_name} (\n",
    "            date DATE,\n",
    "            value DOUBLE,\n",
    "            item VARCHAR(255)\n",
    "        )\n",
    "        \"\"\"\n",
    "        cursor.execute(create_sql)\n",
    "\n",
    "    # 3. 데이터 INSERT\n",
    "    insert_sql = f\"INSERT INTO {table_name} (date, value, item) VALUES (%s, %s, %s)\"\n",
    "    records = list(df.itertuples(index=False, name=None))  # 튜플 리스트\n",
    "    cursor.executemany(insert_sql, records)\n",
    "\n",
    "    conn.commit()\n",
    "    cursor.close()"
   ]
  },
  {
   "cell_type": "code",
   "execution_count": 21,
   "id": "8cf91708",
   "metadata": {},
   "outputs": [
    {
     "data": {
      "text/plain": [
       "(['DATA\\\\ECOS_KRW.csv',\n",
       "  'DATA\\\\FRED_DCOILWTICO.csv',\n",
       "  'DATA\\\\FRED_DEXCHUS.csv',\n",
       "  'DATA\\\\FRED_DEXJPUS.csv',\n",
       "  'DATA\\\\FRED_DEXUSEU.csv',\n",
       "  'DATA\\\\FRED_DGS10.csv',\n",
       "  'DATA\\\\FRED_DTWEXBGS.csv',\n",
       "  'DATA\\\\FRED_SP500.csv',\n",
       "  'DATA\\\\XBBG_CNY.csv',\n",
       "  'DATA\\\\XBBG_DXY.csv',\n",
       "  'DATA\\\\XBBG_GOLD.csv',\n",
       "  'DATA\\\\XBBG_NICKEL.csv',\n",
       "  'DATA\\\\XBBG_SP500.csv',\n",
       "  'DATA\\\\XBBG_USGG10YR.csv',\n",
       "  'DATA\\\\XBBG_WTI.csv'],\n",
       " [{'dbname': 'ECOS', 'itemname': 'KRW'},\n",
       "  {'dbname': 'FRED', 'itemname': 'DCOILWTICO'},\n",
       "  {'dbname': 'FRED', 'itemname': 'DEXCHUS'},\n",
       "  {'dbname': 'FRED', 'itemname': 'DEXJPUS'},\n",
       "  {'dbname': 'FRED', 'itemname': 'DEXUSEU'},\n",
       "  {'dbname': 'FRED', 'itemname': 'DGS10'},\n",
       "  {'dbname': 'FRED', 'itemname': 'DTWEXBGS'},\n",
       "  {'dbname': 'FRED', 'itemname': 'SP500'},\n",
       "  {'dbname': 'XBBG', 'itemname': 'CNY'},\n",
       "  {'dbname': 'XBBG', 'itemname': 'DXY'},\n",
       "  {'dbname': 'XBBG', 'itemname': 'GOLD'},\n",
       "  {'dbname': 'XBBG', 'itemname': 'NICKEL'},\n",
       "  {'dbname': 'XBBG', 'itemname': 'SP500'},\n",
       "  {'dbname': 'XBBG', 'itemname': 'USGG10YR'},\n",
       "  {'dbname': 'XBBG', 'itemname': 'WTI'}])"
      ]
     },
     "execution_count": 21,
     "metadata": {},
     "output_type": "execute_result"
    }
   ],
   "source": [
    "csv_files, data_list"
   ]
  },
  {
   "cell_type": "code",
   "execution_count": 22,
   "id": "09f84a93",
   "metadata": {},
   "outputs": [],
   "source": [
    "for csv_path, data_info in zip(csv_files, data_list):\n",
    "    df = pd.read_csv(csv_path, parse_dates=[\"date\"])\n",
    "    insert_dataframe_to_mysql(data_info[\"dbname\"], df, conn)\n"
   ]
  },
  {
   "cell_type": "code",
   "execution_count": 23,
   "id": "4224217e",
   "metadata": {},
   "outputs": [],
   "source": [
    "\n",
    "conn.close()"
   ]
  },
  {
   "cell_type": "code",
   "execution_count": 27,
   "id": "a6035e7c",
   "metadata": {},
   "outputs": [
    {
     "data": {
      "text/html": [
       "<div>\n",
       "<style scoped>\n",
       "    .dataframe tbody tr th:only-of-type {\n",
       "        vertical-align: middle;\n",
       "    }\n",
       "\n",
       "    .dataframe tbody tr th {\n",
       "        vertical-align: top;\n",
       "    }\n",
       "\n",
       "    .dataframe thead th {\n",
       "        text-align: right;\n",
       "    }\n",
       "</style>\n",
       "<table border=\"1\" class=\"dataframe\">\n",
       "  <thead>\n",
       "    <tr style=\"text-align: right;\">\n",
       "      <th></th>\n",
       "      <th>date</th>\n",
       "      <th>value</th>\n",
       "      <th>item</th>\n",
       "    </tr>\n",
       "  </thead>\n",
       "  <tbody>\n",
       "    <tr>\n",
       "      <th>0</th>\n",
       "      <td>2006-01-02</td>\n",
       "      <td>101.4155</td>\n",
       "      <td>DTWEXBGS</td>\n",
       "    </tr>\n",
       "    <tr>\n",
       "      <th>1</th>\n",
       "      <td>2006-01-03</td>\n",
       "      <td>100.7558</td>\n",
       "      <td>DTWEXBGS</td>\n",
       "    </tr>\n",
       "    <tr>\n",
       "      <th>2</th>\n",
       "      <td>2006-01-04</td>\n",
       "      <td>100.2288</td>\n",
       "      <td>DTWEXBGS</td>\n",
       "    </tr>\n",
       "    <tr>\n",
       "      <th>3</th>\n",
       "      <td>2006-01-05</td>\n",
       "      <td>100.2992</td>\n",
       "      <td>DTWEXBGS</td>\n",
       "    </tr>\n",
       "    <tr>\n",
       "      <th>4</th>\n",
       "      <td>2006-01-06</td>\n",
       "      <td>100.0241</td>\n",
       "      <td>DTWEXBGS</td>\n",
       "    </tr>\n",
       "    <tr>\n",
       "      <th>...</th>\n",
       "      <td>...</td>\n",
       "      <td>...</td>\n",
       "      <td>...</td>\n",
       "    </tr>\n",
       "    <tr>\n",
       "      <th>4867</th>\n",
       "      <td>2025-06-02</td>\n",
       "      <td>121.5490</td>\n",
       "      <td>DTWEXBGS</td>\n",
       "    </tr>\n",
       "    <tr>\n",
       "      <th>4868</th>\n",
       "      <td>2025-06-03</td>\n",
       "      <td>121.8080</td>\n",
       "      <td>DTWEXBGS</td>\n",
       "    </tr>\n",
       "    <tr>\n",
       "      <th>4869</th>\n",
       "      <td>2025-06-04</td>\n",
       "      <td>121.4093</td>\n",
       "      <td>DTWEXBGS</td>\n",
       "    </tr>\n",
       "    <tr>\n",
       "      <th>4870</th>\n",
       "      <td>2025-06-05</td>\n",
       "      <td>121.3178</td>\n",
       "      <td>DTWEXBGS</td>\n",
       "    </tr>\n",
       "    <tr>\n",
       "      <th>4871</th>\n",
       "      <td>2025-06-06</td>\n",
       "      <td>121.5217</td>\n",
       "      <td>DTWEXBGS</td>\n",
       "    </tr>\n",
       "  </tbody>\n",
       "</table>\n",
       "<p>4872 rows × 3 columns</p>\n",
       "</div>"
      ],
      "text/plain": [
       "            date     value      item\n",
       "0     2006-01-02  101.4155  DTWEXBGS\n",
       "1     2006-01-03  100.7558  DTWEXBGS\n",
       "2     2006-01-04  100.2288  DTWEXBGS\n",
       "3     2006-01-05  100.2992  DTWEXBGS\n",
       "4     2006-01-06  100.0241  DTWEXBGS\n",
       "...          ...       ...       ...\n",
       "4867  2025-06-02  121.5490  DTWEXBGS\n",
       "4868  2025-06-03  121.8080  DTWEXBGS\n",
       "4869  2025-06-04  121.4093  DTWEXBGS\n",
       "4870  2025-06-05  121.3178  DTWEXBGS\n",
       "4871  2025-06-06  121.5217  DTWEXBGS\n",
       "\n",
       "[4872 rows x 3 columns]"
      ]
     },
     "execution_count": 27,
     "metadata": {},
     "output_type": "execute_result"
    }
   ],
   "source": [
    "pd.read_csv(\"http://10.1.13.178:5000/fred/DTWEXBGS/\")"
   ]
  },
  {
   "cell_type": "code",
   "execution_count": null,
   "id": "602e0400",
   "metadata": {},
   "outputs": [],
   "source": []
  }
 ],
 "metadata": {
  "kernelspec": {
   "display_name": "base",
   "language": "python",
   "name": "python3"
  },
  "language_info": {
   "codemirror_mode": {
    "name": "ipython",
    "version": 3
   },
   "file_extension": ".py",
   "mimetype": "text/x-python",
   "name": "python",
   "nbconvert_exporter": "python",
   "pygments_lexer": "ipython3",
   "version": "3.9.21"
  }
 },
 "nbformat": 4,
 "nbformat_minor": 5
}
