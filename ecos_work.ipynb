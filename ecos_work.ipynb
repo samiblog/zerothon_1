{
 "cells": [
  {
   "cell_type": "code",
   "execution_count": 47,
   "id": "7f75587e",
   "metadata": {},
   "outputs": [],
   "source": [
    "import requests\n",
    "import pymysql\n",
    "import pandas as pd"
   ]
  },
  {
   "cell_type": "code",
   "execution_count": 48,
   "id": "ace7d73a",
   "metadata": {},
   "outputs": [],
   "source": [
    "import os\n",
    "from dotenv import load_dotenv\n",
    "\n",
    "load_dotenv()\n",
    "api_key = os.getenv(\"ecos_api_key\")"
   ]
  },
  {
   "cell_type": "code",
   "execution_count": 49,
   "id": "c481b5be",
   "metadata": {},
   "outputs": [],
   "source": [
    "# api_key =\"R5F7XNV1FNRFT738YRKU\""
   ]
  },
  {
   "cell_type": "code",
   "execution_count": 50,
   "id": "144ed82d",
   "metadata": {},
   "outputs": [],
   "source": [
    "# 원/달러 환율 조회\n",
    "STAT_CODE = \"731Y003\"\n",
    "ITEM_NAME1 = \"0000003\""
   ]
  },
  {
   "cell_type": "code",
   "execution_count": 51,
   "id": "74cf00f2",
   "metadata": {},
   "outputs": [],
   "source": [
    "# URL 생성성\n",
    "url = f\"http://ecos.bok.or.kr/api/StatisticSearch/{api_key}/json/kr/1/1000/{STAT_CODE}/D/20250601/20250612/{ITEM_NAME1}/\""
   ]
  },
  {
   "cell_type": "code",
   "execution_count": 52,
   "id": "b1fb64a6",
   "metadata": {},
   "outputs": [],
   "source": [
    "# 요청 보내기\n",
    "response = requests.get(url)\n",
    "\n",
    "# 응답 확인\n",
    "if response.status_code == 200:\n",
    "    data = response.json()  # JSON -> Python dict\n",
    "    rows = data['StatisticSearch']['row']  # 실제 데이터 위치\n",
    "\n",
    "    # 4. DataFrame으로 변환\n",
    "    df = pd.DataFrame(rows)\n",
    "    df = df[[\"TIME\", \"DATA_VALUE\"]]  # 필요한 열만 선택\n",
    "\n",
    "    # # 5. 결과 출력\n",
    "    # print(df.head())\n",
    "else:\n",
    "    print(\"데이터 요청 실패:\", response.status_code)"
   ]
  },
  {
   "cell_type": "code",
   "execution_count": 53,
   "id": "7eac628b",
   "metadata": {},
   "outputs": [],
   "source": [
    "# 날짜 포맷 변경 (YYYY-MM-DD)\n",
    "df['date'] = pd.to_datetime(df['TIME'], format='%Y%m%d').dt.date\n",
    "df['value'] = df['DATA_VALUE']\n",
    "df['item'] = 'KRW'"
   ]
  },
  {
   "cell_type": "code",
   "execution_count": 54,
   "id": "eaa16729",
   "metadata": {},
   "outputs": [
    {
     "data": {
      "text/html": [
       "<div>\n",
       "<style scoped>\n",
       "    .dataframe tbody tr th:only-of-type {\n",
       "        vertical-align: middle;\n",
       "    }\n",
       "\n",
       "    .dataframe tbody tr th {\n",
       "        vertical-align: top;\n",
       "    }\n",
       "\n",
       "    .dataframe thead th {\n",
       "        text-align: right;\n",
       "    }\n",
       "</style>\n",
       "<table border=\"1\" class=\"dataframe\">\n",
       "  <thead>\n",
       "    <tr style=\"text-align: right;\">\n",
       "      <th></th>\n",
       "      <th>date</th>\n",
       "      <th>value</th>\n",
       "      <th>item</th>\n",
       "    </tr>\n",
       "  </thead>\n",
       "  <tbody>\n",
       "    <tr>\n",
       "      <th>0</th>\n",
       "      <td>2025-06-02</td>\n",
       "      <td>1373.1</td>\n",
       "      <td>KRW</td>\n",
       "    </tr>\n",
       "    <tr>\n",
       "      <th>1</th>\n",
       "      <td>2025-06-04</td>\n",
       "      <td>1369.5</td>\n",
       "      <td>KRW</td>\n",
       "    </tr>\n",
       "    <tr>\n",
       "      <th>2</th>\n",
       "      <td>2025-06-05</td>\n",
       "      <td>1358.4</td>\n",
       "      <td>KRW</td>\n",
       "    </tr>\n",
       "    <tr>\n",
       "      <th>3</th>\n",
       "      <td>2025-06-09</td>\n",
       "      <td>1356.4</td>\n",
       "      <td>KRW</td>\n",
       "    </tr>\n",
       "    <tr>\n",
       "      <th>4</th>\n",
       "      <td>2025-06-10</td>\n",
       "      <td>1364.3</td>\n",
       "      <td>KRW</td>\n",
       "    </tr>\n",
       "    <tr>\n",
       "      <th>5</th>\n",
       "      <td>2025-06-11</td>\n",
       "      <td>1375</td>\n",
       "      <td>KRW</td>\n",
       "    </tr>\n",
       "    <tr>\n",
       "      <th>6</th>\n",
       "      <td>2025-06-12</td>\n",
       "      <td>1358.7</td>\n",
       "      <td>KRW</td>\n",
       "    </tr>\n",
       "  </tbody>\n",
       "</table>\n",
       "</div>"
      ],
      "text/plain": [
       "         date   value item\n",
       "0  2025-06-02  1373.1  KRW\n",
       "1  2025-06-04  1369.5  KRW\n",
       "2  2025-06-05  1358.4  KRW\n",
       "3  2025-06-09  1356.4  KRW\n",
       "4  2025-06-10  1364.3  KRW\n",
       "5  2025-06-11    1375  KRW\n",
       "6  2025-06-12  1358.7  KRW"
      ]
     },
     "execution_count": 54,
     "metadata": {},
     "output_type": "execute_result"
    }
   ],
   "source": [
    "df = df[['date', 'value', 'item']]\n",
    "df"
   ]
  },
  {
   "cell_type": "code",
   "execution_count": 55,
   "id": "8ec973b8",
   "metadata": {},
   "outputs": [],
   "source": [
    "host = os.getenv(\"db_host\")\n",
    "user = os.getenv(\"db_user\")\n",
    "password = os.getenv(\"db_password\")\n",
    "database = os.getenv(\"db_database\")"
   ]
  },
  {
   "cell_type": "code",
   "execution_count": 56,
   "id": "3c513f55",
   "metadata": {},
   "outputs": [],
   "source": [
    "# DB 연결 설정\n",
    "conn = pymysql.connect(\n",
    "    host=host,\n",
    "    user=user,\n",
    "    password=password,\n",
    "    database=database,\n",
    "    charset='utf8mb4',\n",
    "    autocommit=True\n",
    ")\n"
   ]
  },
  {
   "cell_type": "code",
   "execution_count": 57,
   "id": "89f4b7ac",
   "metadata": {},
   "outputs": [],
   "source": [
    "# 데이터베이스에 저장\n",
    "try:\n",
    "    with conn.cursor() as cursor:\n",
    "        for _, row in df.iterrows():\n",
    "            # 먼저 존재 여부 확인\n",
    "            check_sql = \"\"\"\n",
    "                SELECT COUNT(*) FROM ECOS\n",
    "                WHERE date = %s AND item = %s\n",
    "            \"\"\"\n",
    "            cursor.execute(check_sql, (row['date'], row['item']))\n",
    "            count = cursor.fetchone()[0]\n",
    "\n",
    "            if count > 0:\n",
    "                # 존재하면 UPDATE\n",
    "                update_sql = \"\"\"\n",
    "                    UPDATE ECOS\n",
    "                    SET value = %s\n",
    "                    WHERE date = %s AND item = %s\n",
    "                \"\"\"\n",
    "                cursor.execute(update_sql, (row['value'], row['date'], row['item']))\n",
    "            else:\n",
    "                # 존재하지 않으면 INSERT\n",
    "                insert_sql = \"\"\"\n",
    "                    INSERT INTO ECOS (date, value, item)\n",
    "                    VALUES (%s, %s, %s)\n",
    "                \"\"\"\n",
    "                cursor.execute(insert_sql, (row['date'], row['value'], row['item']))\n",
    "\n",
    "finally:\n",
    "    conn.close()"
   ]
  }
 ],
 "metadata": {
  "kernelspec": {
   "display_name": "base",
   "language": "python",
   "name": "python3"
  },
  "language_info": {
   "codemirror_mode": {
    "name": "ipython",
    "version": 3
   },
   "file_extension": ".py",
   "mimetype": "text/x-python",
   "name": "python",
   "nbconvert_exporter": "python",
   "pygments_lexer": "ipython3",
   "version": "3.9.21"
  }
 },
 "nbformat": 4,
 "nbformat_minor": 5
}
