{
 "cells": [
  {
   "cell_type": "code",
   "execution_count": 44,
   "id": "d31a9501",
   "metadata": {},
   "outputs": [],
   "source": [
    "from fredapi import Fred\n",
    "import pandas as pd\n",
    "# import glob\n",
    "import pymysql"
   ]
  },
  {
   "cell_type": "code",
   "execution_count": 45,
   "id": "66e67264",
   "metadata": {},
   "outputs": [
    {
     "data": {
      "text/plain": [
       "True"
      ]
     },
     "execution_count": 45,
     "metadata": {},
     "output_type": "execute_result"
    }
   ],
   "source": [
    "import os\n",
    "from dotenv import load_dotenv\n",
    "\n",
    "load_dotenv()"
   ]
  },
  {
   "cell_type": "code",
   "execution_count": 46,
   "id": "d999b33a",
   "metadata": {},
   "outputs": [],
   "source": [
    "api_key = os.getenv(\"fred_api_key\")"
   ]
  },
  {
   "cell_type": "code",
   "execution_count": 47,
   "id": "f5d3257b",
   "metadata": {},
   "outputs": [],
   "source": [
    "# api_key = \"ae5480bbc5e84829fa0b4bf032c59e32\""
   ]
  },
  {
   "cell_type": "code",
   "execution_count": 48,
   "id": "11db151a",
   "metadata": {},
   "outputs": [],
   "source": [
    "# csv_files = glob.glob(\"DATA/*.csv\")"
   ]
  },
  {
   "cell_type": "code",
   "execution_count": 49,
   "id": "fb502410",
   "metadata": {},
   "outputs": [],
   "source": [
    "# csv_files"
   ]
  },
  {
   "cell_type": "code",
   "execution_count": 50,
   "id": "244ed55a",
   "metadata": {},
   "outputs": [],
   "source": [
    "# fred_tickers = [csv.replace(\"DATA\\\\\", \"\").replace(\".csv\", \"\").replace(\"FRED_\", \"\") for csv in csv_files if \"FRED\" in csv ]"
   ]
  },
  {
   "cell_type": "code",
   "execution_count": 51,
   "id": "ba00f29c",
   "metadata": {},
   "outputs": [],
   "source": [
    "fred_tickers = ['DCOILWTICO', 'DEXCHUS', 'DEXJPUS', 'DEXUSEU', 'DGS10', 'DTWEXBGS', 'SP500']"
   ]
  },
  {
   "cell_type": "code",
   "execution_count": 52,
   "id": "84605457",
   "metadata": {},
   "outputs": [],
   "source": [
    "fred = Fred(api_key=api_key)"
   ]
  },
  {
   "cell_type": "code",
   "execution_count": 53,
   "id": "96a0ef42",
   "metadata": {},
   "outputs": [],
   "source": [
    "host = os.getenv(\"db_host\")\n",
    "user = os.getenv(\"db_user\")\n",
    "password = os.getenv(\"db_password\")\n",
    "database = os.getenv(\"db_database\")"
   ]
  },
  {
   "cell_type": "code",
   "execution_count": 54,
   "id": "157d468d",
   "metadata": {},
   "outputs": [],
   "source": [
    "# DB 연결 설정\n",
    "conn = pymysql.connect(\n",
    "    host=host,\n",
    "    user=user,\n",
    "    password=password,\n",
    "    database=database,\n",
    "    charset='utf8mb4',\n",
    "    autocommit=True\n",
    ")\n"
   ]
  },
  {
   "cell_type": "code",
   "execution_count": 55,
   "id": "c7699bac",
   "metadata": {},
   "outputs": [],
   "source": [
    "def update_or_insert_db(df, conn):\n",
    "    with conn.cursor() as cursor:\n",
    "        for _, row in df.iterrows():\n",
    "            # 먼저 존재 여부 확인\n",
    "            check_sql = \"\"\"\n",
    "                SELECT COUNT(*) FROM FRED\n",
    "                WHERE date = %s AND item = %s\n",
    "            \"\"\"\n",
    "            cursor.execute(check_sql, (row['date'], row['item']))\n",
    "            count = cursor.fetchone()[0]\n",
    "\n",
    "            if count > 0:\n",
    "                # 존재하면 UPDATE\n",
    "                update_sql = \"\"\"\n",
    "                    UPDATE FRED\n",
    "                    SET value = %s\n",
    "                    WHERE date = %s AND item = %s\n",
    "                \"\"\"\n",
    "                cursor.execute(update_sql, (row['value'], row['date'], row['item']))\n",
    "                print(\"update\", row['value'], row['date'], row['item'])\n",
    "            else:\n",
    "                # 존재하지 않으면 INSERT\n",
    "                insert_sql = \"\"\"\n",
    "                    INSERT INTO FRED (date, value, item)\n",
    "                    VALUES (%s, %s, %s)\n",
    "                \"\"\"\n",
    "                cursor.execute(insert_sql, (row['date'], row['value'], row['item']))\n",
    "                print(\"insert\", row['value'], row['date'], row['item'])\n"
   ]
  },
  {
   "cell_type": "code",
   "execution_count": 56,
   "id": "5217ac14",
   "metadata": {},
   "outputs": [
    {
     "name": "stdout",
     "output_type": "stream",
     "text": [
      "update 63.27 2025-06-02 00:00:00 DCOILWTICO\n",
      "update 64.1 2025-06-03 00:00:00 DCOILWTICO\n",
      "update 63.57 2025-06-04 00:00:00 DCOILWTICO\n",
      "update 64.06 2025-06-05 00:00:00 DCOILWTICO\n",
      "update 65.3 2025-06-06 00:00:00 DCOILWTICO\n",
      "update 65.99 2025-06-09 00:00:00 DCOILWTICO\n",
      "update 7.1975 2025-06-02 00:00:00 DEXCHUS\n",
      "update 7.1872 2025-06-03 00:00:00 DEXCHUS\n",
      "update 7.1844 2025-06-04 00:00:00 DEXCHUS\n",
      "update 7.175 2025-06-05 00:00:00 DEXCHUS\n",
      "update 7.1886 2025-06-06 00:00:00 DEXCHUS\n",
      "update 142.76 2025-06-02 00:00:00 DEXJPUS\n",
      "update 143.93 2025-06-03 00:00:00 DEXJPUS\n",
      "update 142.91 2025-06-04 00:00:00 DEXJPUS\n",
      "update 143.87 2025-06-05 00:00:00 DEXJPUS\n",
      "update 144.87 2025-06-06 00:00:00 DEXJPUS\n",
      "update 1.1432 2025-06-02 00:00:00 DEXUSEU\n",
      "update 1.1373 2025-06-03 00:00:00 DEXUSEU\n",
      "update 1.1424 2025-06-04 00:00:00 DEXUSEU\n",
      "update 1.144 2025-06-05 00:00:00 DEXUSEU\n",
      "update 1.1397 2025-06-06 00:00:00 DEXUSEU\n",
      "update 4.46 2025-06-02 00:00:00 DGS10\n",
      "update 4.46 2025-06-03 00:00:00 DGS10\n",
      "update 4.37 2025-06-04 00:00:00 DGS10\n",
      "update 4.4 2025-06-05 00:00:00 DGS10\n",
      "update 4.51 2025-06-06 00:00:00 DGS10\n",
      "update 4.49 2025-06-09 00:00:00 DGS10\n",
      "update 4.47 2025-06-10 00:00:00 DGS10\n",
      "update 121.549 2025-06-02 00:00:00 DTWEXBGS\n",
      "update 121.808 2025-06-03 00:00:00 DTWEXBGS\n",
      "update 121.4093 2025-06-04 00:00:00 DTWEXBGS\n",
      "update 121.3178 2025-06-05 00:00:00 DTWEXBGS\n",
      "update 121.5217 2025-06-06 00:00:00 DTWEXBGS\n",
      "update 5935.94 2025-06-02 00:00:00 SP500\n",
      "update 5970.37 2025-06-03 00:00:00 SP500\n",
      "update 5970.81 2025-06-04 00:00:00 SP500\n",
      "update 5939.3 2025-06-05 00:00:00 SP500\n",
      "update 6000.36 2025-06-06 00:00:00 SP500\n",
      "update 6005.88 2025-06-09 00:00:00 SP500\n",
      "update 6038.81 2025-06-10 00:00:00 SP500\n",
      "update 6022.24 2025-06-11 00:00:00 SP500\n"
     ]
    }
   ],
   "source": [
    "for fred_ticker in fred_tickers:\n",
    "    # FRED API를 통해 데이터 가져오기\n",
    "    fdata = fred.get_series(observation_start=\"2025-06-01\", series_id=fred_ticker)\n",
    "    df = pd.DataFrame({\"date\": fdata.index, \"value\": fdata.values, \"item\": fred_ticker})\n",
    "    update_or_insert_db(df, conn)\n",
    "    # print(df.tail())"
   ]
  },
  {
   "cell_type": "code",
   "execution_count": 57,
   "id": "0e8e2099",
   "metadata": {},
   "outputs": [],
   "source": [
    "conn.close()"
   ]
  }
 ],
 "metadata": {
  "kernelspec": {
   "display_name": "base",
   "language": "python",
   "name": "python3"
  },
  "language_info": {
   "codemirror_mode": {
    "name": "ipython",
    "version": 3
   },
   "file_extension": ".py",
   "mimetype": "text/x-python",
   "name": "python",
   "nbconvert_exporter": "python",
   "pygments_lexer": "ipython3",
   "version": "3.9.21"
  }
 },
 "nbformat": 4,
 "nbformat_minor": 5
}
