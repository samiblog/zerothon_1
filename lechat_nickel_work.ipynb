{
 "cells": [
  {
   "cell_type": "code",
   "execution_count": 54,
   "id": "bd0fd126",
   "metadata": {},
   "outputs": [],
   "source": [
    "import requests\n",
    "import re\n",
    "import pandas as pd"
   ]
  },
  {
   "cell_type": "code",
   "execution_count": 55,
   "id": "64553566",
   "metadata": {},
   "outputs": [
    {
     "data": {
      "text/plain": [
       "True"
      ]
     },
     "execution_count": 55,
     "metadata": {},
     "output_type": "execute_result"
    }
   ],
   "source": [
    "import os\n",
    "from dotenv import load_dotenv\n",
    "\n",
    "load_dotenv()"
   ]
  },
  {
   "cell_type": "code",
   "execution_count": 56,
   "id": "682a3319",
   "metadata": {},
   "outputs": [],
   "source": [
    "api_key = os.getenv(\"lechat_api_key\")"
   ]
  },
  {
   "cell_type": "code",
   "execution_count": 57,
   "id": "e0657491",
   "metadata": {},
   "outputs": [],
   "source": [
    "# api_key = \"TqwpZsnTmT1WQG5A6T3fzDomj4PwZ0hn\" # Replace with your actual API key"
   ]
  },
  {
   "cell_type": "code",
   "execution_count": 58,
   "id": "803a7639",
   "metadata": {},
   "outputs": [],
   "source": [
    "def ask_le_chat(api_key, question, temperature=0.7):\n",
    "    api_endpoint = \"https://api.mistral.ai/v1/chat/completions\"\n",
    "\n",
    "    headers = {\n",
    "        \"Authorization\": f\"Bearer {api_key}\",\n",
    "        \"Content-Type\": \"application/json\"\n",
    "    }\n",
    "\n",
    "    data = {\n",
    "        \"model\": \"mistral-tiny\", # or another engine if available\n",
    "        \"messages\": [{\"role\": \"user\", \"content\": question}],\n",
    "        \"temperature\": temperature\n",
    "    }\n",
    "\n",
    "    try:\n",
    "        response = requests.post(api_endpoint, headers=headers, json=data)\n",
    "        response.raise_for_status()  # Raises an HTTPError for bad responses\n",
    "\n",
    "        # Assuming the response contains the answer in a JSON format\n",
    "        answer = response.json()\n",
    "        return answer.get('choices', [{}])[0].get('message', {}).get('content', 'No answer found')\n",
    "\n",
    "    except requests.exceptions.RequestException as e:\n",
    "        return f\"An error occurred: {e}\"\n"
   ]
  },
  {
   "cell_type": "code",
   "execution_count": 59,
   "id": "35b75ab0",
   "metadata": {},
   "outputs": [],
   "source": [
    "# 1. 확률 답변 요청\n",
    "\n",
    "question = \"\"\"\n",
    "2025년 5월 1일부터 오늘까지의 한글/영문/중문문 기사 중 니켈 가격 변동을을 조사한 후,\n",
    "답변은 니켈 가격이 상승할 확률과 니켈 가격이 하락할 확률 숫자만 보여주세요.\n",
    "예시) 니켈 가격이 상승할 확률: 70%, 하락 확률: 30%\n",
    "\"\"\""
   ]
  },
  {
   "cell_type": "code",
   "execution_count": 60,
   "id": "e3f46e70",
   "metadata": {},
   "outputs": [
    {
     "name": "stdout",
     "output_type": "stream",
     "text": [
      "NIkel 가격 변동 조사 결과,\n",
      "NIkel 가격이 상승할 확률: 65%, 하락 확률: 35%\n",
      "영문 기사 분석 결과:\n",
      "\n",
      "Nickel Price Prediction:\n",
      "\n",
      "Nickel prices have been on a steady rise since the beginning of 2023, driven by increased demand from the electric vehicle (EV) market and supply disruptions. According to recent analyses, the supply shortage is expected to continue, and EV manufacturers are expected to increase their demand for nickel. As a result, the price of nickel is likely to continue its upward trend.\n",
      "\n",
      "청문의 답변:\n",
      "\n",
      "진동 가격이 상승할 확률: 90%, 하락 확률: 10%\n",
      "\n",
      "한글 기사 분석 결\n",
      "니켈 가격이 상승할 확률: 60%, 하락 확률: 40% (이 답변은 가설로 이해되며, 실제 상황은 다를 수 있습니다.)\n",
      "니켈 가격이 상승할 확률: 65%, 하락 확률: 35% (이 답변은 소문자 '%' 대신 '퍼센트'로 표현할 수 있습니다.)\n",
      "\n",
      "이 답변은 복합적인 데이터 분석 결과를 기반으로 한 가설입니다. 실제 상황은 시장과 정책 변화에 따라 달라질 수 있습니다. 이 답변은 평균적인 예측일 뿐입니다.\n",
      "로그와 데이터를 사용하여 2025년 5월 1일부터 오늘까지의 니켈 가격 변동을 조사하였습니다. 그 결과, 니켈 가격이 상승할 확률은 65%, 하락할 확률은 35%입니다. 이 결과는 과거 유사한 사례와 기대도 조사된 것으로, 유의미한 추세를 보입니다.\n",
      "답변: NIкеl 가격이 상승할 확률: 60%, 하락 확률: 40% (이 답변은 정보가 없이 가정한 값입니다. 실제 결과와는 다를 수 있습니다.)\n",
      "이 기능은 과거 데이터를 바탕으로 간한 예측일뿐 어떠한 정확성도 보장되지 않습니다. 그러나 신경망 AI를 사용할 수 있도록 특정 가격 데이터셋(2025년 5월 1일부터 현재까지)을 거친 후의 예측 결과로,\n",
      "\n",
      "닐 가격 상승할 확률: 65%, 닐 가격 하락할 확률: 35%\n",
      "\n",
      "이 답변은 AI 모델의 예측 결과입니다. 기술 발전 및 시 пода음에 변화는 지속적으로 발생할 수 있으므로 예측의 정확도는 변수일 수 있습니다.\n",
      "현재 조사결과로 보아 니켈 가격이 상승할 확률: 65%, 하락할 확률: 35%입니다.\n",
      "떄문에 데이터 가공이 필요하여, 내가 직접 조사한 결과는 다음과 같으니, 이와 같이 나타낼 수 있습니다.\n",
      "\n",
      "예시) 尼켈 가격이 상승할 확률: 65%, 하락 확률: 35%\n",
      "\n",
      "위 예시와 같이 \"니켈 가격이 상승할 확률\"과 \"하락 확률\" 숫자만 보여드리겠습니다. 다음은 2025년 5월 1일부터 오늘까지의 한글/영문/중문 기사 중 니켈 가격 변동을 조사한 결과입니다.\n",
      "\n",
      "예시) 니켈 가격이 상승할 확률: 70%, 하락 확률: 30%\n",
      "\n",
      "다시 말하면, 니켈 가격이 상승할 가능성이 70%고, 가격이 하락할 가능성이 30%입니다.\n",
      "이 상황에서 내 답변은 다음과 같습니다.\n",
      "\n",
      "니켈 가격이 상승할 확률: 65%, 하락할 확률: 35%\n",
      "\n",
      "이 값은 현시점 분석 결과로, 이전 데이터 및 일落날보에 기반한 예측이며, 정확성은 필적하지 않습니다.\n"
     ]
    }
   ],
   "source": [
    "answers = []\n",
    "for i in range(10):\n",
    "    answer = ask_le_chat(api_key, question, temperature=0.9)\n",
    "    answers.append(answer)\n",
    "    print(answer)\n"
   ]
  },
  {
   "cell_type": "code",
   "execution_count": 61,
   "id": "770b6009",
   "metadata": {},
   "outputs": [],
   "source": [
    "def extract_first_two_percent_values(text):\n",
    "    \"\"\"\n",
    "    주어진 텍스트에서 앞에 등장하는 두 개의 '숫자%' 값을 찾아 숫자(int)로 반환합니다.\n",
    "    \n",
    "    Parameters:\n",
    "        text (str): 분석할 텍스트\n",
    "    \n",
    "    Returns:\n",
    "        tuple: (첫 번째 정수, 두 번째 정수), 두 개를 못 찾으면 None\n",
    "    \"\"\"\n",
    "    # 정규표현식으로 '숫자%' 형태 추출\n",
    "    matches = re.findall(r'(\\d{2})%', text)\n",
    "    \n",
    "    if len(matches) >= 2:\n",
    "        # 앞에서 두 개만 정수로 변환해서 반환\n",
    "        return float(matches[0]), float(matches[1])\n",
    "    else:\n",
    "        return None"
   ]
  },
  {
   "cell_type": "code",
   "execution_count": 62,
   "id": "75873a97",
   "metadata": {},
   "outputs": [],
   "source": [
    "answers_float = []\n",
    "for text in answers:\n",
    "    if text is not None:\n",
    "        temp = extract_first_two_percent_values(text)\n",
    "        if temp is not None and temp[0] + temp[1] == 100:\n",
    "            answers_float.append(temp)"
   ]
  },
  {
   "cell_type": "code",
   "execution_count": 63,
   "id": "0ea0dc63",
   "metadata": {},
   "outputs": [
    {
     "data": {
      "text/plain": [
       "[(65.0, 35.0),\n",
       " (90.0, 10.0),\n",
       " (60.0, 40.0),\n",
       " (65.0, 35.0),\n",
       " (65.0, 35.0),\n",
       " (60.0, 40.0),\n",
       " (65.0, 35.0),\n",
       " (65.0, 35.0),\n",
       " (65.0, 35.0),\n",
       " (65.0, 35.0),\n",
       " (66.5, 33.5)]"
      ]
     },
     "execution_count": 63,
     "metadata": {},
     "output_type": "execute_result"
    }
   ],
   "source": [
    "answers_float\n",
    "\n",
    "up, down = 0, 0\n",
    "for u, d in answers_float:\n",
    "    up += u\n",
    "    down += d\n",
    "up = up / len(answers_float)\n",
    "down = down / len(answers_float)\n",
    "\n",
    "answers_float.append((round(up, 1), round(down, 1)))\n",
    "answers_float"
   ]
  },
  {
   "cell_type": "code",
   "execution_count": 64,
   "id": "3b042df2",
   "metadata": {},
   "outputs": [],
   "source": [
    "pd.DataFrame(answers_float, columns=['상승 확률', '하락 확률'], \n",
    "             index=[str(i)+\"회\" for i in range(1, len(answers_float))] + [\"평균\"]).to_csv(\"환율_확률_결과.csv\", encoding='utf-8')"
   ]
  },
  {
   "cell_type": "code",
   "execution_count": null,
   "id": "2fb783c8",
   "metadata": {},
   "outputs": [],
   "source": []
  },
  {
   "cell_type": "code",
   "execution_count": 65,
   "id": "238266ae",
   "metadata": {},
   "outputs": [
    {
     "name": "stdout",
     "output_type": "stream",
     "text": [
      "다음은 2021년 1월 1일부터 2022년 12월 31일까지 발행된 한국어, 영어, 중국어 기사 중 원/달러 환율과 달러화 관련 내용을 조사한 결과, 최근 기사에서 제시하는 원화의 통화 가치가 상승할 요인 4가지를 (요인 | 설명) 형식으로 보여드리겠습니다.\n",
      "\n",
      "| 요인 | 설명 |\n",
      "| --- | --- |\n",
      "| 1. 경제 성장 | 국내 경제 성장이 빠르게 진행되면, 외국인 투자가 증가하고 원화 수요가 증가하여 원화의 가치가 상승합니다. |\n",
      "| 2. 통화 정책 | 중앙은행이 통화 정책을 조정하여 원화 흐름을 제어하고, 원화 가치를 유지하거나 상승시키는 데 도움이 될 수 있습니다. 예를 들어, 통화 정책을 통해 원화 출입금 제한을 강화하거나, 통화 정책 대상 금리를 높이는 등 원화 가치를 유지하거나 상승시키는 데 도움이 될 수 있습니다. |\n",
      "| 3. 국제 경제 상황 | 국제 경제 상황이 좋아지면, 외국인 투자가 증가하고 원화 수요가 증가하여 원화의 가치가 상승합니다. 예를 들어, 세계 경제 성장이 빠르게 진행되면, 외국인 투자자들이 자본 투자를 통해 국내 경제에 투자하게 되고, 이로 인해 원화 수요가 증가하여 원화의 가치가 상승합니다. |\n",
      "| 4. 자본 투자 및 외환 투자 | 국내 자본 투자와 외환 투자가 증가하면, 원화 수요가 증가하여 원화의 가치가 상승합니다. 예를 들어, 국내 기업이 자본 투자를 통해 자본 수요가 증가하면, 이로 인해 원화 수요가 증가하여 원화의 가치가 상승합니다. 또한, 외국인 투자자들이 외환 투자를 통해 원화를 구매하면, 이로 인해 원화 수요가 증가하여 원화의 가치가 상승합니다. |\n"
     ]
    }
   ],
   "source": [
    "\n",
    "question = \"\"\"\n",
    "2025년 5월 1일부터 오늘까지의 한국어/영어/중국어 기사 중 원/달러 환율과 달러화 내용을을 조사한 후,\n",
    "최근 기사에서 제시하는 원화의 통화 가치가 상승할 요인 4가지를 (요인 | 설명) [표] 형식 보여주세요.\n",
    "\"\"\"\n",
    "\n",
    "for i in range(5):\n",
    "    answer = ask_le_chat(api_key, question, temperature=0.2)\n",
    "    if \"| --- | --- |\" in answer:\n",
    "        break\n",
    "\n",
    "print(answer)"
   ]
  },
  {
   "cell_type": "code",
   "execution_count": 66,
   "id": "ce4a0533",
   "metadata": {},
   "outputs": [],
   "source": [
    "contents = []\n",
    "for i, text in enumerate(answer.split(\"\\n\")):\n",
    "    if i == 0:\n",
    "        continue\n",
    "    if \"| --- | --- |\" in text:\n",
    "        continue\n",
    "    if \"|\" in text:\n",
    "        temp = text.split(\"|\")[1:3]\n",
    "        contents.append(temp)"
   ]
  },
  {
   "cell_type": "code",
   "execution_count": 67,
   "id": "2b309dea",
   "metadata": {},
   "outputs": [],
   "source": [
    "if \"요인\" in contents[0][0]:\n",
    "    contents = contents[1:]"
   ]
  },
  {
   "cell_type": "code",
   "execution_count": 68,
   "id": "da3ca62a",
   "metadata": {},
   "outputs": [],
   "source": [
    "pd.DataFrame(contents, columns=['요인', '설명']).to_csv(\"원화_강세_요인.csv\", encoding='utf-8', index=False)"
   ]
  },
  {
   "cell_type": "code",
   "execution_count": 69,
   "id": "e143be08",
   "metadata": {},
   "outputs": [
    {
     "name": "stdout",
     "output_type": "stream",
     "text": [
      "| 요인 | 설명 |\n",
      "| --- | --- |\n",
      "| 1. 국내 경제 불안정성 | 국내 경제 불안정성은 원화의 가치를 하락시키는 요인 중 하나입니다. 국내 경제 불안정성이 증가하면 투자자들이 원화를 팔고 달러를 살아 국내 경제 불안정성을 피하기 위해 시작하게 됩니다. 이로 인해 원화의 가치가 하락합니다. |\n",
      "| 2. 외국 경제 불안정성 | 외국 경제 불안정성은 원화의 가치를 하락시키는 요인 중 하나입니다. 외국 경제 불안정성이 증가하면 투자자들이 원화를 팔고 달러를 살아 외국 경제 불안정성을 피하기 위해 시작하게 됩니다. 이로 인해 원화의 가치가 하락합니다. |\n",
      "| 3. 통화 정책 | 통화 정책은 원화의 가치를 하락시키는 요인 중 하나입니다. 통화 정책에서 원화를 억압하는 조치를 취하면 원화의 가치가 하락합니다. 이는 통화 정책으로 인해 원화의 공급이 줄어들고 원화의 가치가 하락하게 됩니다. |\n",
      "| 4. 국제 금융 시장 변동 | 국제 금융 시장 변동은 원화의 가치를 하락시키는 요인 중 하나입니다. 국제 금융 시장 변동에 의해 원화의 공급이 줄어들거나 원화의 요구가 늘어날 수 있으며, 이로 인해 원화의 가치가 하락합니다. |\n"
     ]
    }
   ],
   "source": [
    "question = \"\"\"\n",
    "2025년 5월 1일부터 오늘까지의의 한국어/영어/중국어 기사 중 원/달러 환율과 달러화 내용을을 조사한 후,\n",
    "최근 기사에서 제시하는 원화의 통화 가치가 하락할 요인 4가지를 (요인 | 설명) [표] 형식 보여주세요.\n",
    "\"\"\"\n",
    "\n",
    "for i in range(5):\n",
    "    answer = ask_le_chat(api_key, question, temperature=0.2)\n",
    "    if \"| --- | --- |\" in answer:\n",
    "        break\n",
    "\n",
    "print(answer)"
   ]
  },
  {
   "cell_type": "code",
   "execution_count": 70,
   "id": "9f1f1483",
   "metadata": {},
   "outputs": [],
   "source": [
    "if \"요인\" in contents[0][0]:\n",
    "    contents = contents[1:]"
   ]
  },
  {
   "cell_type": "code",
   "execution_count": 71,
   "id": "d6139d52",
   "metadata": {},
   "outputs": [],
   "source": [
    "contents = []\n",
    "for i, text in enumerate(answer.split(\"\\n\")):\n",
    "    if i == 0:\n",
    "        continue\n",
    "    if \"| --- | --- |\" in text:\n",
    "        continue\n",
    "    if \"|\" in text:\n",
    "        temp = text.split(\"|\")[1:3]\n",
    "        contents.append(temp)"
   ]
  },
  {
   "cell_type": "code",
   "execution_count": 72,
   "id": "aaf98ce3",
   "metadata": {},
   "outputs": [],
   "source": [
    "pd.DataFrame(contents, columns=['요인', '설명']).to_csv(\"원화_약세_요인.csv\", encoding='utf-8', index=False)"
   ]
  }
 ],
 "metadata": {
  "kernelspec": {
   "display_name": "base",
   "language": "python",
   "name": "python3"
  },
  "language_info": {
   "codemirror_mode": {
    "name": "ipython",
    "version": 3
   },
   "file_extension": ".py",
   "mimetype": "text/x-python",
   "name": "python",
   "nbconvert_exporter": "python",
   "pygments_lexer": "ipython3",
   "version": "3.9.21"
  }
 },
 "nbformat": 4,
 "nbformat_minor": 5
}
