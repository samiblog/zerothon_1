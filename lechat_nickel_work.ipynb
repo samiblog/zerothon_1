{
 "cells": [
  {
   "cell_type": "code",
   "execution_count": 35,
   "id": "bd0fd126",
   "metadata": {},
   "outputs": [],
   "source": [
    "import requests\n",
    "import re\n",
    "import pandas as pd"
   ]
  },
  {
   "cell_type": "code",
   "execution_count": 36,
   "id": "64553566",
   "metadata": {},
   "outputs": [
    {
     "data": {
      "text/plain": [
       "True"
      ]
     },
     "execution_count": 36,
     "metadata": {},
     "output_type": "execute_result"
    }
   ],
   "source": [
    "import os\n",
    "from dotenv import load_dotenv\n",
    "\n",
    "load_dotenv()"
   ]
  },
  {
   "cell_type": "code",
   "execution_count": 37,
   "id": "682a3319",
   "metadata": {},
   "outputs": [],
   "source": [
    "api_key = os.getenv(\"lechat_api_key\")"
   ]
  },
  {
   "cell_type": "code",
   "execution_count": 38,
   "id": "e0657491",
   "metadata": {},
   "outputs": [],
   "source": [
    "# api_key = \"TqwpZsnTmT1WQG5A6T3fzDomj4PwZ0hn\" # Replace with your actual API key"
   ]
  },
  {
   "cell_type": "code",
   "execution_count": 39,
   "id": "803a7639",
   "metadata": {},
   "outputs": [],
   "source": [
    "def ask_le_chat(api_key, question, temperature=0.7):\n",
    "    api_endpoint = \"https://api.mistral.ai/v1/chat/completions\"\n",
    "\n",
    "    headers = {\n",
    "        \"Authorization\": f\"Bearer {api_key}\",\n",
    "        \"Content-Type\": \"application/json\"\n",
    "    }\n",
    "\n",
    "    data = {\n",
    "        \"model\": \"mistral-tiny\", # or another engine if available\n",
    "        \"messages\": [{\"role\": \"user\", \"content\": question}],\n",
    "        \"temperature\": temperature\n",
    "    }\n",
    "\n",
    "    try:\n",
    "        response = requests.post(api_endpoint, headers=headers, json=data)\n",
    "        response.raise_for_status()  # Raises an HTTPError for bad responses\n",
    "\n",
    "        # Assuming the response contains the answer in a JSON format\n",
    "        answer = response.json()\n",
    "        return answer.get('choices', [{}])[0].get('message', {}).get('content', 'No answer found')\n",
    "\n",
    "    except requests.exceptions.RequestException as e:\n",
    "        return f\"An error occurred: {e}\"\n"
   ]
  },
  {
   "cell_type": "code",
   "execution_count": 40,
   "id": "35b75ab0",
   "metadata": {},
   "outputs": [],
   "source": [
    "# 1. 확률 답변 요청\n",
    "\n",
    "question = \"\"\"\n",
    "2025년 5월 1일부터 오늘까지의 한글/영문/중문문 기사 중 니켈 가격 변동을을 조사한 후,\n",
    "답변은 니켈 가격이 상승할 확률과 니켈 가격이 하락할 확률 숫자만 보여주세요.\n",
    "예시) 니켈 가격이 상승할 확률: 70%, 하락 확률: 30%\n",
    "\"\"\""
   ]
  },
  {
   "cell_type": "code",
   "execution_count": 41,
   "id": "e3f46e70",
   "metadata": {},
   "outputs": [
    {
     "name": "stdout",
     "output_type": "stream",
     "text": [
      "날짜는 2023년 6월 30일 기준으로 조사한 결과입니다.\n",
      "\n",
      "NIкеl 가격이 상승할 확률: 65%, 하락할 확률: 35%\n",
      "\n",
      "NIкеl의 가격은 고부자율 상황과 함께 수요가 증가하여 상승할 가능성이 크다고 판단되었습니다. 그러나 예치금의 투자 및 재고 관리와 같은 암호화폐 시장에서 발생할 수 있는 내ම 변동성 등에 주목해야 합니다.\n",
      "니켈 가격이 상승할 확률: 65%, 하락 확률: 35% (이 데이터는 시뮬레이션 결과로 가정 되었습니다)\n",
      "정보를 기반으로 할 수 있는 답변은 다음과 같습니다.\n",
      "\n",
      "니켈 가격이 상승할 확률: 60%, 하락 확률: 40%\n",
      "\n",
      "이 결과는 개인 생각으로 인해 유동변동적인 시장상황에 영향을 받을 수 있으므로, 예측이 정확하지 않으며, 금융 매매 등 무 ARISING 업무에 대해서는 제대로 적용하지 못합니다. 최종 결정은 사용자 본인이 해당 업무와 관련된 전문가에게 문의하는 것을 강력하게 추천드립니다.\n",
      "nickel price trend analysis for the period of May 1, 2025 to present day:\n",
      "\n",
      "nickel price increase likelihood: 60%\n",
      "nickel price decrease likelihood: 40%\n",
      "니켈 가격이 상승할 확률: 60%, 하락 확률: 40% (이 답변은 가상 데이터이므로 정확성은 보장되지 않습니다.)\n",
      "니켈 가격이 상승할 확률: 65%, 하락 확률: 35% (이 답변은 예측값으로 해당되는 실제 값과  deviation이 있을 수 있고, 정확도에 대한 보장은 없습니다.)\n",
      "네, NIkel 가격을 조사해보았습니다.\n",
      "\n",
      "NIkel 가격이 상승할 확률: 60%, 하락할 확률: 40%\n",
      "\n",
      "이 결과는 시장 정보에서 얻어왔으며, 항상 정확하지 않지만 볼 수 있는 근거에 기초한 분석 결과입니다. 시장 조건이 변화하거나 새로운 정보가 공개될 경우, NIkel 가격  movment 가 변경될 수 있습니다.\n",
      "니켈 가격이 상승할 확률: 65%, 하락 확률: 35%\n",
      "\n",
      "이 답변은 예측값이며, 실제 니켈 가격을 예측하는 좋은 지표가 될 수 있지 않으니, 투자 등의 목적으로 사용하기에는 적합하지 않습니다. 이때 여러 기본적인 조건이 필요하며, 항상 자신의 자본을 변화로 내세운 다음 예측을 실천할 때까지는 좋지 않습니다.\n",
      "NIckel 시장 현상 lean 분석 결과를 바탕으로, 2025년 5월 1일부터 오늘까지의 데이터로부터 내려온 결과는 다음과 같습니다.\n",
      "\n",
      "NIckel 가격이 상승할 확률: 65%, 하락할 확률: 35%\n",
      "\n",
      "이 결과는 다음 요소에 영향을 받고 있습니다.\n",
      "\n",
      "1. 감소한 제품 생산 필요성 및 대형 제조업체들의 상황\n",
      "2. 변화된 제도 및 정부 지원 정책 및 지원 비율\n",
      "3. 전체적인 경제적 상황과 금융적 요인\n",
      "\n",
      "이러한 요인들이 과정에 따라 변화하면서 NIckel 시장의 동향이 달라지고 있으며, 추가로 지속적인 모니터링과 관응이 필요합니다.\n",
      "당시 조사한 결과를 바탕으로 니켈 가격 변동 확률을 예측하게 된다면,\n",
      "\n",
      "니켈 가격이 상승할 확률: 65%,\n",
      "니켈 가격이 하락할 확률: 35%\n",
      "\n",
      "이에 대한 결과입니다. 시장 상황이 변화하기 때문에 이 결과는 단기적인 시간 동안만 유효합니다.\n"
     ]
    }
   ],
   "source": [
    "answers = []\n",
    "for i in range(10):\n",
    "    answer = ask_le_chat(api_key, question, temperature=0.9)\n",
    "    answers.append(answer)\n",
    "    print(answer)\n"
   ]
  },
  {
   "cell_type": "code",
   "execution_count": 42,
   "id": "770b6009",
   "metadata": {},
   "outputs": [],
   "source": [
    "def extract_first_two_percent_values(text):\n",
    "    \"\"\"\n",
    "    주어진 텍스트에서 앞에 등장하는 두 개의 '숫자%' 값을 찾아 숫자(int)로 반환합니다.\n",
    "    \n",
    "    Parameters:\n",
    "        text (str): 분석할 텍스트\n",
    "    \n",
    "    Returns:\n",
    "        tuple: (첫 번째 정수, 두 번째 정수), 두 개를 못 찾으면 None\n",
    "    \"\"\"\n",
    "    # 정규표현식으로 '숫자%' 형태 추출\n",
    "    matches = re.findall(r'(\\d{2})%', text)\n",
    "    \n",
    "    if len(matches) >= 2:\n",
    "        # 앞에서 두 개만 정수로 변환해서 반환\n",
    "        return float(matches[0]), float(matches[1])\n",
    "    else:\n",
    "        return None"
   ]
  },
  {
   "cell_type": "code",
   "execution_count": 43,
   "id": "75873a97",
   "metadata": {},
   "outputs": [],
   "source": [
    "answers_float = []\n",
    "for text in answers:\n",
    "    if text is not None:\n",
    "        temp = extract_first_two_percent_values(text)\n",
    "        if temp is not None and temp[0] + temp[1] == 100:\n",
    "            answers_float.append(temp)"
   ]
  },
  {
   "cell_type": "code",
   "execution_count": 44,
   "id": "0ea0dc63",
   "metadata": {},
   "outputs": [
    {
     "data": {
      "text/plain": [
       "[(65.0, 35.0),\n",
       " (65.0, 35.0),\n",
       " (60.0, 40.0),\n",
       " (60.0, 40.0),\n",
       " (60.0, 40.0),\n",
       " (65.0, 35.0),\n",
       " (60.0, 40.0),\n",
       " (65.0, 35.0),\n",
       " (65.0, 35.0),\n",
       " (65.0, 35.0),\n",
       " (63.0, 37.0)]"
      ]
     },
     "execution_count": 44,
     "metadata": {},
     "output_type": "execute_result"
    }
   ],
   "source": [
    "answers_float\n",
    "\n",
    "up, down = 0, 0\n",
    "for u, d in answers_float:\n",
    "    up += u\n",
    "    down += d\n",
    "up = up / len(answers_float)\n",
    "down = down / len(answers_float)\n",
    "\n",
    "answers_float.append((round(up, 1), round(down, 1)))\n",
    "answers_float"
   ]
  },
  {
   "cell_type": "code",
   "execution_count": 45,
   "id": "3b042df2",
   "metadata": {},
   "outputs": [],
   "source": [
    "pd.DataFrame(answers_float, columns=['상승 확률', '하락 확률'], \n",
    "             index=[str(i)+\"회\" for i in range(1, len(answers_float))] + [\"평균\"]).to_csv(\"환율_확률_결과.csv\", encoding='utf-8')"
   ]
  },
  {
   "cell_type": "code",
   "execution_count": null,
   "id": "2fb783c8",
   "metadata": {},
   "outputs": [],
   "source": []
  },
  {
   "cell_type": "code",
   "execution_count": 46,
   "id": "238266ae",
   "metadata": {},
   "outputs": [
    {
     "name": "stdout",
     "output_type": "stream",
     "text": [
      "| 요인 | 설명 |\n",
      "| --- | --- |\n",
      "| 1. 국내 경제 성장 | 국내 경제 성장은 기업의 수익이 증가하고, 외국인 투자가 증가하여 원화의 가치가 상승할 수 있습니다. 2022년 4월부터 2025년 5월까지 국내 경제 성장률이 3.5% 이상으로 유지되어 원화의 가치가 상승하는 요인이 되었습니다. |\n",
      "| 2. 외국인 투자 증가 | 외국인 투자 증가는 원화의 공급이 증가하고, 원화의 가치가 상승할 수 있습니다. 2023년 1월부터 2025년 5월까지 외국인 투자가 국내 기업에 대한 투자 금액이 2000억 달러 이상으로 증가하여 원화의 가치가 상승하는 요인이 되었습니다. |\n",
      "| 3. 외국 통화 가치 하락 | 외국 통화 가치 하락은 원화의 가치가 상승할 수 있습니다. 2024년 1월부터 2025년 5월까지 유럽 통화 지수(EUR)와 일본 엔 지수(JPY)가 각각 10% 이상 하락하여 원화의 가치가 상승하는 요인이 되었습니다. |\n",
      "| 4. 국내 통화 제어 정책 | 국내 통화 제어 정책은 원화의 공급을 제한하고, 원화의 가치가 상승할 수 있습니다. 2022년 12월부터 2025년 5월까지 국내 통화 제어 정책이 강화되어 원화의 공급이 제한되어 원화의 가치가 상승하는 요인이 되었습니다. |\n"
     ]
    }
   ],
   "source": [
    "\n",
    "question = \"\"\"\n",
    "2025년 5월 1일부터 오늘까지의 한국어/영어/중국어 기사 중 원/달러 환율과 달러화 내용을을 조사한 후,\n",
    "최근 기사에서 제시하는 원화의 통화 가치가 상승할 요인 4가지를 (요인 | 설명) [표] 형식 보여주세요.\n",
    "\"\"\"\n",
    "\n",
    "for i in range(5):\n",
    "    answer = ask_le_chat(api_key, question, temperature=0.2)\n",
    "    if \"| --- | --- |\" in answer:\n",
    "        break\n",
    "\n",
    "print(answer)"
   ]
  },
  {
   "cell_type": "code",
   "execution_count": 47,
   "id": "ce4a0533",
   "metadata": {},
   "outputs": [],
   "source": [
    "contents = []\n",
    "for i, text in enumerate(answer.split(\"\\n\")):\n",
    "    if i == 0:\n",
    "        continue\n",
    "    if \"| --- | --- |\" in text:\n",
    "        continue\n",
    "    if \"|\" in text:\n",
    "        temp = text.split(\"|\")[1:3]\n",
    "        contents.append(temp)"
   ]
  },
  {
   "cell_type": "code",
   "execution_count": null,
   "id": "2b309dea",
   "metadata": {},
   "outputs": [],
   "source": [
    "if \"요인\" in contents[0][0]:\n",
    "    contents = contents[1:]"
   ]
  },
  {
   "cell_type": "code",
   "execution_count": 49,
   "id": "da3ca62a",
   "metadata": {},
   "outputs": [],
   "source": [
    "pd.DataFrame(contents, columns=['요인', '설명']).to_csv(\"원화_강세_요인.csv\", encoding='utf-8', index=False)"
   ]
  },
  {
   "cell_type": "code",
   "execution_count": 50,
   "id": "e143be08",
   "metadata": {},
   "outputs": [
    {
     "name": "stdout",
     "output_type": "stream",
     "text": [
      "| 요인 | 설명 |\n",
      "| --- | --- |\n",
      "| 1. 전자금융 거래 폭발적 증가 | 전자금윤 거래의 폭발적 증가로 인해 원화 공급이 빨리 소모되고 있어 원화의 가치가 하락하고 있습니다. 이는 국내 전자금윤 거래 시장의 성장과 국제 전자금윤 거래 시장의 확대로 인해 발생하고 있습니다. |\n",
      "| 2. 국내 경제 성장 느린 추세 | 국내 경제 성장이 느린 추세로 인해 원화 공급이 느려지고 있어 원화의 가치가 하락하고 있습니다. 이는 국내 생산성 증대와 소비 증가로 인해 원화 공급이 늘어나는 요인이 작아지고 있기 때문입니다. |\n",
      "| 3. 외국 금융 기관의 원화 투자 감소 | 외국 금융 기관의 원화 투자가 감소하고 있어 원화의 가치가 하락하고 있습니다. 이는 외국 금융 기관의 국내 투자 수익 예측이 떨어지고 있기 때문에 발생하고 있습니다. |\n",
      "| 4. 외국 경제 불안정성 증가 | 외국 경제 불안정성이 증가하고 있어 원화 요구가 늘어나고 있어 원화의 가치가 하락하고 있습니다. 이는 외국 경제 불안정성으로 인해 국내 수출 수요가 감소하고 있기 때문에 발생하고 있습니다. |\n"
     ]
    }
   ],
   "source": [
    "question = \"\"\"\n",
    "2025년 5월 1일부터 오늘까지의의 한국어/영어/중국어 기사 중 원/달러 환율과 달러화 내용을을 조사한 후,\n",
    "최근 기사에서 제시하는 원화의 통화 가치가 하락할 요인 4가지를 (요인 | 설명) [표] 형식 보여주세요.\n",
    "\"\"\"\n",
    "\n",
    "for i in range(5):\n",
    "    answer = ask_le_chat(api_key, question, temperature=0.2)\n",
    "    if \"| --- | --- |\" in answer:\n",
    "        break\n",
    "\n",
    "print(answer)"
   ]
  },
  {
   "cell_type": "code",
   "execution_count": null,
   "id": "9f1f1483",
   "metadata": {},
   "outputs": [],
   "source": [
    "if \"요인\" in contents[0][0]:\n",
    "    contents = contents[1:]"
   ]
  },
  {
   "cell_type": "code",
   "execution_count": 52,
   "id": "d6139d52",
   "metadata": {},
   "outputs": [],
   "source": [
    "contents = []\n",
    "for i, text in enumerate(answer.split(\"\\n\")):\n",
    "    if i == 0:\n",
    "        continue\n",
    "    if \"| --- | --- |\" in text:\n",
    "        continue\n",
    "    if \"|\" in text:\n",
    "        temp = text.split(\"|\")[1:3]\n",
    "        contents.append(temp)"
   ]
  },
  {
   "cell_type": "code",
   "execution_count": 53,
   "id": "aaf98ce3",
   "metadata": {},
   "outputs": [],
   "source": [
    "pd.DataFrame(contents, columns=['요인', '설명']).to_csv(\"원화_약세_요인.csv\", encoding='utf-8', index=False)"
   ]
  }
 ],
 "metadata": {
  "kernelspec": {
   "display_name": "base",
   "language": "python",
   "name": "python3"
  },
  "language_info": {
   "codemirror_mode": {
    "name": "ipython",
    "version": 3
   },
   "file_extension": ".py",
   "mimetype": "text/x-python",
   "name": "python",
   "nbconvert_exporter": "python",
   "pygments_lexer": "ipython3",
   "version": "3.9.21"
  }
 },
 "nbformat": 4,
 "nbformat_minor": 5
}
