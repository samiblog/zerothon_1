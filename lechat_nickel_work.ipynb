{
 "cells": [
  {
   "cell_type": "code",
   "execution_count": 197,
   "id": "bd0fd126",
   "metadata": {},
   "outputs": [],
   "source": [
    "import requests\n",
    "import re\n",
    "import pandas as pd"
   ]
  },
  {
   "cell_type": "code",
   "execution_count": 198,
   "id": "64553566",
   "metadata": {},
   "outputs": [
    {
     "data": {
      "text/plain": [
       "True"
      ]
     },
     "execution_count": 198,
     "metadata": {},
     "output_type": "execute_result"
    }
   ],
   "source": [
    "import os\n",
    "from dotenv import load_dotenv\n",
    "\n",
    "load_dotenv()"
   ]
  },
  {
   "cell_type": "code",
   "execution_count": 199,
   "id": "682a3319",
   "metadata": {},
   "outputs": [],
   "source": [
    "api_key = os.getenv(\"lechat_api_key\")"
   ]
  },
  {
   "cell_type": "code",
   "execution_count": 200,
   "id": "e0657491",
   "metadata": {},
   "outputs": [],
   "source": [
    "# api_key = \"TqwpZsnTmT1WQG5A6T3fzDomj4PwZ0hn\" # Replace with your actual API key"
   ]
  },
  {
   "cell_type": "code",
   "execution_count": 201,
   "id": "803a7639",
   "metadata": {},
   "outputs": [],
   "source": [
    "def ask_le_chat(api_key, question, temperature=0.7):\n",
    "    api_endpoint = \"https://api.mistral.ai/v1/chat/completions\"\n",
    "\n",
    "    headers = {\n",
    "        \"Authorization\": f\"Bearer {api_key}\",\n",
    "        \"Content-Type\": \"application/json\"\n",
    "    }\n",
    "\n",
    "    data = {\n",
    "        \"model\": \"mistral-tiny\", # or another engine if available\n",
    "        \"messages\": [{\"role\": \"user\", \"content\": question}],\n",
    "        \"temperature\": temperature\n",
    "    }\n",
    "\n",
    "    try:\n",
    "        response = requests.post(api_endpoint, headers=headers, json=data)\n",
    "        response.raise_for_status()  # Raises an HTTPError for bad responses\n",
    "\n",
    "        # Assuming the response contains the answer in a JSON format\n",
    "        answer = response.json()\n",
    "        return answer.get('choices', [{}])[0].get('message', {}).get('content', 'No answer found')\n",
    "\n",
    "    except requests.exceptions.RequestException as e:\n",
    "        return f\"An error occurred: {e}\"\n"
   ]
  },
  {
   "cell_type": "code",
   "execution_count": null,
   "id": "35b75ab0",
   "metadata": {},
   "outputs": [],
   "source": [
    "# 1. 확률 답변 요청\n",
    "\n",
    "question = \"\"\"\n",
    "2025년 5월 1일부터 오늘까지의 한글/영문/중문문 기사 중 니켈 가격 변동을을 조사한 후,\n",
    "답변은 니켈 가격이 상승할 확률과 니켈 가격이 하락할 확률 숫자만 보여주세요.\n",
    "예시) 니켈 가격이 상승할 확률: 70%, 하락 확률: 30%\n",
    "\"\"\""
   ]
  },
  {
   "cell_type": "code",
   "execution_count": 203,
   "id": "e3f46e70",
   "metadata": {},
   "outputs": [
    {
     "name": "stdout",
     "output_type": "stream",
     "text": [
      "정보를 조사하여 가져온 결과입니다.\n",
      "\n",
      "한국 원화의 통화가치가 상승할 확률: 60%, 하락 확률: 40%\n",
      "\n",
      "이 결과는 오늘 기준으로 예측되며, 예측 결과는 장기적인 향후 예측이 아닌 오늘부터의 단기적인 예측입니다. 이 결과는 개별적인 예측이며, 금융시장 상황의 변화로 인하여 예측 결과는 변수가 될 수 있습니다. 이 결과는 투자 관련 정보이므로 투자 판단에 절대 iewm-multiplex-101 자료로 사용할 것을 推하지 않습니다. 항상 자세한 정보와 전문적인 조언을 받으시기 바랍니다.\n",
      "이 질문에 대한 정보를 제공하기 위해 2025년 5월 1일부터 현재까지의 기사를 조사하여, 한국 원화의 통화가치가 상승할 확률과 하락할 확률을 추정했습니다.\n",
      "\n",
      "한국 원화의 통화가치가 상승할 확률: 60%,\n",
      "한국 원화의 통화가치가 하락할 확률: 40%\n",
      "\n",
      "이 정보는 기사의 내용을 바탕으로 생성된 추정치입니다. 이 정보는 정확한 분석이 아닙니다. 자금시장 분석을 위해서는 전문가와 상담하는 것이 바람직합니다.\n",
      "이 문제에 대한 답변은 현재 2022년 12월 30일 기준으로 데이터를 분석한 결과를 바탕으로 하여 맥락상 맞추어지는 답변을  drasticly fluctuate 없이 기수(기준)를 두고 예측해 보았습니다.\n",
      "\n",
      "한국 원화의 통화가치가 상승할 확률: 60%, 하락 확률: 40% (이 통계치는 2022년 12월 30일 기준으로 분석된 것으로, 이후 변동이 있을 수 있음을  bilking 맞추지 않으셨습니다.)\n",
      "\n",
      "통화 가치 상승은 대두 환율이 오랫동안 상승하면서 도달한 지금의 되삵 와전 가격 및 발전 과다로 인해 연귀 통화 수익이 증가할 확률이 높습니다. 하지만 전자 상거래의 세계장화와 인플레이션 시장의 여롱증 등 다음 몇 년 동안에도 불확실성이 존재할 것으로 예상됩니다.\n",
      "\n",
      "한국 원화의 통화가치가 하락할 확률의 원인으로는 외주 투자의 감소, 금융 시장의 변동, 국내 경제 비정상 증식 등이 가장 큰 원인으로 간주되며, 이러한 맹 moins인화와 같은 사업에서 원화 가격이 낮아짐으로써 통화 가치가 감소하는 타락을 야기할 수 있습니다.\n",
      "이 질문에 대한 정확한 답변은 현재 환율 및 지수 데이터가 없고, 추측으로는 아니며, 제 용도가 아닙니다. 그러나 다음은 기사를 읽고 환율 및 달러화지수를 분석한 후의 예측 결과입니다.\n",
      "\n",
      "한국 원화의 통화가치가 상승할 확률: 65%, 하락 확률: 35% (예측)\n",
      "\n",
      "이 결과는 환율과 달러화지수 데이터를 기반으로 합니다. 실제로는 국내외 경제적 요인(정쥐, 교육, 모범, 생산, 작업 등), 지 laught 경제 데이터(GDP, CPI, 산업 생산, exports 및 imports 등) 및 여러 기업 및 금융 시장 데이터를 기반으로 할 수 있는 정확한 예측을 하려면 수많은 분석이 필요합니다.\n",
      "\n",
      "이 질문에 대한 응답에는 환율 및 달러화지수 데이터를 기반으로 한 추측 결과뿐이며, 현재 환율 및 달러화지수 데이터 외에도 많은 자료를 고려해야 합니다. 이 질문의 목적에 따라 다른 정보로 응답할 수도 있습니다.\n",
      "이 질문은 2025년 5월 1일부터 오늘까지의 현재 기반으로 정확한 예측은 불가능합니다. 이유는 다양합니다. 중국 경opolis의 기업가는 거대한 움직임을  drived 하고, 여러 국가 경영 정책, 다양한 지 dogsic 에서 영향을  받을 수 있습니다. 그러나 예측 모델을 사용하여 일반적인 통화 가치 변화에 대한 몇 가지 팁을 제공할 수 있습니다.\n",
      "\n",
      "한국 원화의 통화 가치가 상승할 확률:\n",
      "- 를 위한 핵심 요인은 대학원 보렸을 때 통화 자금이 증가할 경우, 외국 구매 구동력이 강화될 수 있습니다. 그러나, 최근 일부 국가의 경기 불안의 증가로 인해 외국인 투자가 많이 줄어든 경우는 이에 반해, 이것을 포함한 다음과 같은 요인들이 원화 상승을 유도할 수 있습니다.\n",
      "  - 전자제품 고객 국가들 중 일부의 경과 불안이 줄어들면, 양자산 투자와 수출이 증가할 가능성이 높습니다.\n",
      "  - 수익률 상승과 함께 높은 저자본 투자를 유도할 수 있는 높은 필요 봉사 률입니다.\n",
      "  - 대한민국 기업의 수설 대출이 증가하며, 이로 인해 신조직 수립이 증가할 경우 원화 비율이 상승할 수 있습니다.\n",
      "  - 중국 경opolis의 경기가 유리한 상태에 있는 경우, 중국입구에서 차량을 수입하기 위해 한국 원화로 지불할 수 있는 의자를 구매할 수 있습니다.\n",
      "\n",
      "한국 원화가 하락할 확률:\n",
      "- 대한민국 경기 불안에 따라 외국인 투자가 줄어들면, 원화가 하락할 가능성이 높습니다. 다음과 같은 요인들이 원화 하락을 유도할 수 있습니다:\n",
      "  - 대한민국 수출이 줄어들고, 한국의 기업가는 외로운 국가로 투자를 하기 위해서는 현재 통화를 변환하여 내려야 하는 경우가 더 많아집니다.\n",
      "  - 전자제품 고객 국가들의 경과 불안이 높아지면, 산업 전체에서 수익률이 Lower되어 원화가 하락할 가능성이 높습니다.\n",
      "  - 인플레이션 인상 및 통화 제어Null의 적절성 조정이 필요할 경우에도 원화가 하락할 수 있습니다.\n",
      "  - 대한민국 외채 가격이 높아지면 외국은 대한민국 자산을 발전시키려는 노력이 증가할 수 있으나, 이로 인해 원화 비율이 하락할 수 있습니다.\n",
      "\n",
      "따라서, 이 질문에서는 한국 원화의 통화 가치가 상승할 확률과 하락할 확률을 제시할 수 없습니다. 현재 대한민국의 경기 상황, 전자제품 가격, 대한민국 외채 가격, 대한민국 공제 수준 및 외국인 투자 양을 포함하여 시장의 여러 가지 요인에 따라 이를 수정할 수 있습니다.\n",
      "한국 원화의 통화가치가 상승할 확률과 하락할 확률을 구하기 위해서는 기사 내용에서 제시된 통화 데이터를 이용하여 분석을 진행합니다.\n",
      "\n",
      "환율과 달러화지수는 한국 원화의 가격이 얼마나 우Ľ나 하Ľ나 일하는 지를 나타내는 상관관계가 있을 수 있습니다.\n",
      "\n",
      "환율이 오르고 달러화지수가 낮아지는 경우 한국 원화의 통화가치가 상승할 가능성이 높습니다. 반대로 환율이 내리고 달러화지수가 높아지면 한국 원화의 통화가치가 하락할 가능성이 높습니다.\n",
      "\n",
      "나누어 기사에서 제시된 환율과 달러화지수를 이용하여 분석을 진행하여, 한국 원화의 통화가치가 상승할 확률은 75%, 하띝할 확률은 25%입니다.\n",
      "\n",
      "이 결과는 분석 방법과 기사내용에 따라 수치가 다를 수 있으니, 다른 분석 결과도 참고하시기 바랍니다.\n",
      "현재 기사 및 데이터 정보는 제공되지 않았습니다. 그러나 숫자로 답변하기 위해서는 상승할 확률과 하락할 확률을 알 수 있는 정보가 필요합니다. 이를 위해 원/달러 환율과 달러화지수를 통해 분석하여 확률을 알아냄으로써 답변을 드리도록 하겠습니다.\n",
      "\n",
      "상승할 확률과 하락할 확률을 예측하는 방법은 다음과 같습니다.\n",
      "\n",
      "1. 원/달러 환율이 지난 시기에 기준이었을 때 현재의 원/달러 환율이 유리한지 부정적인지에 대해 분석합니다. 이 점 marks 인덱스이며, 어떤 지점에서 유리한지 부정적인지에 대한 의견이 나눠지면 이를 토대로 해당 기간에 원화 가치가 상승하게 되는 확률을 лександ스에 평가합니다.\n",
      "\n",
      "2. Dollar Index(DI)를 이용하여 달러화의 강도를 파악합니다. 만약 DI가 증가되면서 원화와 비교해서 커지는 경우, 원화 가치가 하락할 확률이 증가할 것으로 예측할 수 있습니다.\n",
      "\n",
      "이 두 기준을 이용하여 상승하거나 하락할 확률을 생각해보겠습니다.\n",
      "\n",
      "1. 원/달러 환율 분석\n",
      "\n",
      "(예상 원/달러 환율) 1,200 Waon(KRW) per Dollar\n",
      "(기준 원/달러 환율) 1,150 Waon(KRW) per Dollar\n",
      "\n",
      "실제 환율이 1,200 Waon(KRW) per Dollar로 나왔으므로, 상위 인덱스입니다. 이로써 원화 가치가 증가할 확률이 높아집니다.\n",
      "\n",
      "2. Dollar Index 분석\n",
      "\n",
      "(당시 DI) 100\n",
      "(현재 DI) 95\n",
      "\n",
      "이번에는 Dollar Index가 감소되었으므로 원화 가치가 증가할 확률이 높아집니다.\n",
      "\n",
      "결론적으로, 한국 원화의 통화가치가 상승할 확률은 고정되어 있지 않지만, 지금까지 분석한 결과로서는 기간 동안 원화 가치가 상승할 확률이 높아질 것으로 예측할 수 있습니다.\n",
      "\n",
      "한국 원화의 통화가치가 상승할 확률: 90%, 하락 확률: 10%\n",
      "정보를 기반으로 한 분석결과, 한국 원화의 통화가치가 상승할 확률: 60%, 하락 확률: 40%. 단, 이Modified나 다른 기준으로 계산된 결과가 있을 수 있으며, 다음 결과는 정보를 기반으로 한 분석 결과로서, 소수점 센싱 오류가 있을 수 있으며, 상세한 파라미터나 분석 방법이 제공되지 않았다고 가정합니다.\n",
      "이 시나리오에서 한국 원화의 통화 가치가 상승할 확률 및 하락할 확률을 예측하려면 평가 기준이 필요합니다. 여기에서는 GDP 성장률, 통화 정책, 영점국 정책, 외교 문제 등을 활용하여 통화 가치를 예측합니다. 다음은 예측 결과입니다.\n",
      "\n",
      "한국 원화의 통화가치가 상승할 확률: 60%, 하락 확률: 40%\n",
      "\n",
      "이 결과는 한국의 GDP가 2025년 5월부터 상기 시점까지 증가하여 장거동기적으로 영점국 국제 경제에서 영향력을 확신할 수 있다고 가정하였으며, 대통령의 선거 결과와 함께 적절한 통화 정책을 수행하였다고 가정하였기 때문입니다. 하지만 과열되는 단기 경제적 상황에 제반한 외교적 문제가 발생하거나, 외구주의가 강화된 경우에는 원화의 통화가치가 하락할 가능성이 높을 수 있습니다.\n",
      "정보 조회 결과, 2025년 5월 1일부터 오늘까지의 기사 중 원/달러 환율과 달러화지수를 분석한 결과 다음과 같습니다.\n",
      "\n",
      "1. 한국 원화의 통화가치가 상승할 확률: 60%\n",
      "2. 한국 원화의 통화가치가 하락할 확률: 40%\n",
      "\n",
      "이 결과는 분석 데이터에서 지정된 시기의 기사 정보와 분석 방법에 따라 달라질 수 있음을 인정합니다.\n"
     ]
    }
   ],
   "source": [
    "answers = []\n",
    "for i in range(10):\n",
    "    answer = ask_le_chat(api_key, question, temperature=0.9)\n",
    "    answers.append(answer)\n",
    "    print(answer)\n"
   ]
  },
  {
   "cell_type": "code",
   "execution_count": 204,
   "id": "770b6009",
   "metadata": {},
   "outputs": [],
   "source": [
    "def extract_first_two_percent_values(text):\n",
    "    \"\"\"\n",
    "    주어진 텍스트에서 앞에 등장하는 두 개의 '숫자%' 값을 찾아 숫자(int)로 반환합니다.\n",
    "    \n",
    "    Parameters:\n",
    "        text (str): 분석할 텍스트\n",
    "    \n",
    "    Returns:\n",
    "        tuple: (첫 번째 정수, 두 번째 정수), 두 개를 못 찾으면 None\n",
    "    \"\"\"\n",
    "    # 정규표현식으로 '숫자%' 형태 추출\n",
    "    matches = re.findall(r'(\\d{2})%', text)\n",
    "    \n",
    "    if len(matches) >= 2:\n",
    "        # 앞에서 두 개만 정수로 변환해서 반환\n",
    "        return float(matches[0]), float(matches[1])\n",
    "    else:\n",
    "        return None"
   ]
  },
  {
   "cell_type": "code",
   "execution_count": 205,
   "id": "75873a97",
   "metadata": {},
   "outputs": [],
   "source": [
    "answers_float = []\n",
    "for text in answers:\n",
    "    if text is not None:\n",
    "        temp = extract_first_two_percent_values(text)\n",
    "        if temp is not None and temp[0] + temp[1] == 100:\n",
    "            answers_float.append(temp)"
   ]
  },
  {
   "cell_type": "code",
   "execution_count": 206,
   "id": "0ea0dc63",
   "metadata": {},
   "outputs": [
    {
     "data": {
      "text/plain": [
       "[(60.0, 40.0),\n",
       " (60.0, 40.0),\n",
       " (60.0, 40.0),\n",
       " (65.0, 35.0),\n",
       " (75.0, 25.0),\n",
       " (90.0, 10.0),\n",
       " (60.0, 40.0),\n",
       " (60.0, 40.0),\n",
       " (60.0, 40.0),\n",
       " (65.6, 34.4)]"
      ]
     },
     "execution_count": 206,
     "metadata": {},
     "output_type": "execute_result"
    }
   ],
   "source": [
    "answers_float\n",
    "\n",
    "up, down = 0, 0\n",
    "for u, d in answers_float:\n",
    "    up += u\n",
    "    down += d\n",
    "up = up / len(answers_float)\n",
    "down = down / len(answers_float)\n",
    "\n",
    "answers_float.append((round(up, 1), round(down, 1)))\n",
    "answers_float"
   ]
  },
  {
   "cell_type": "code",
   "execution_count": 207,
   "id": "3b042df2",
   "metadata": {},
   "outputs": [],
   "source": [
    "pd.DataFrame(answers_float, columns=['상승 확률', '하락 확률'], \n",
    "             index=[str(i)+\"회\" for i in range(1, len(answers_float))] + [\"평균\"]).to_csv(\"환율_확률_결과.csv\", encoding='utf-8')"
   ]
  },
  {
   "cell_type": "code",
   "execution_count": null,
   "id": "2fb783c8",
   "metadata": {},
   "outputs": [],
   "source": []
  },
  {
   "cell_type": "code",
   "execution_count": 208,
   "id": "238266ae",
   "metadata": {},
   "outputs": [
    {
     "name": "stdout",
     "output_type": "stream",
     "text": [
      "다음은 2021년 1월 1일부터 2022년 12월 31일까지 발행된 한국어, 영어, 중국어 기사 중 원/달러 환율과 달러화 관련 내용을 조사한 결과, 최근 기사에서 제시하는 원화의 통화 가치가 상승할 요인 4가지를 (요인 | 설명) 형식으로 보여드리겠습니다.\n",
      "\n",
      "| 요인 | 설명 |\n",
      "| --- | --- |\n",
      "| 1. 경제 성장 | 국내 경제 성장이 빠르게 진행되면, 외국인 투자자들이 한국 기업에 투자하기 쉬워지고, 원화 공급이 증가하게 되어 원화의 가치가 상승할 수 있습니다. |\n",
      "| 2. 통화 정책 | 중앙은행이 통화 정책을 통해 원화 공급을 제한하거나 원화 가치를 지원하는 방법을 사용할 수 있습니다. 예를 들어, 중앙은행이 통화 정책을 통해 원화 공급을 제한하면, 원화 공급이 줄어들고 원화의 가치가 상승할 수 있습니다. |\n",
      "| 3. 외국 통화 가치 하락 | 외국 통화의 가치가 하락하면, 해당 국가의 상품 가격이 높아지고, 해당 국가의 기업에 대한 투자가 쉬워지게 됩니다. 이로 인해 원화 공급이 증가하고, 원화의 가치가 상승할 수 있습니다. |\n",
      "| 4. 국제 경제적 조건 | 국제 경제적 조건이 좋아지면, 국내 경제 성장이 빠르게 진행되고, 외국인 투자가 증가하게 됩니다. 이로 인해 원화 공급이 증가하고, 원화의 가치가 상승할 수 있습니다. 예를 들어, 국제 경제적 조건이 좋아지면, 국내 기업의 수출이 증가하고, 외국인 투자자들이 한국 기업에 투자하기 쉬워지게 됩니다. |\n"
     ]
    }
   ],
   "source": [
    "\n",
    "question = \"\"\"\n",
    "2025년 5월 1일부터 오늘까지의 한국어/영어/중국어 기사 중 원/달러 환율과 달러화 내용을을 조사한 후,\n",
    "최근 기사에서 제시하는 원화의 통화 가치가 상승할 요인 4가지를 (요인 | 설명) [표] 형식 보여주세요.\n",
    "\"\"\"\n",
    "\n",
    "for i in range(5):\n",
    "    answer = ask_le_chat(api_key, question, temperature=0.2)\n",
    "    if \"| --- | --- |\" in answer:\n",
    "        break\n",
    "\n",
    "print(answer)"
   ]
  },
  {
   "cell_type": "code",
   "execution_count": 209,
   "id": "ce4a0533",
   "metadata": {},
   "outputs": [],
   "source": [
    "contents = []\n",
    "for i, text in enumerate(answer.split(\"\\n\")):\n",
    "    if i == 0:\n",
    "        continue\n",
    "    if \"| --- | --- |\" in text:\n",
    "        continue\n",
    "    if \"|\" in text:\n",
    "        temp = text.split(\"|\")[1:3]\n",
    "        contents.append(temp)"
   ]
  },
  {
   "cell_type": "code",
   "execution_count": 210,
   "id": "da3ca62a",
   "metadata": {},
   "outputs": [],
   "source": [
    "pd.DataFrame(contents, columns=['요인', '설명']).to_csv(\"원화_강세_요인.csv\", encoding='utf-8', index=False)"
   ]
  },
  {
   "cell_type": "code",
   "execution_count": 211,
   "id": "e143be08",
   "metadata": {},
   "outputs": [
    {
     "name": "stdout",
     "output_type": "stream",
     "text": [
      "| 요인 | 설명 |\n",
      "| --- | --- |\n",
      "| 1. 경제 불안정성 | 국내 경제 성장 속도의 저하, 외국 경제 불안정성 등이 원화의 가치를 하락시키는 요인입니다. 경제 불안정성은 투자자들의 원화 투자 희망을 떨어뜨리고, 외국 투자자들이 원화를 팔아 달러를 구입하게 되어 원화의 가치가 하락합니다. |\n",
      "| 2. 통화 정책 | 중앙은행의 통화 정책이 원화 가치를 하락시키는 요인입니다. 중앙은행이 통화 혹은 이자율을 높이거나 낮추는 등의 조치로 원화의 가치를 하락시킬 수 있습니다. 이는 투자자들이 원화를 팔아 달러를 구입하게 되어 원화의 가치가 하락합니다. |\n",
      "| 3. 국제 경제 조건 | 국제 경제 조건이 원화의 가치를 하락시키는 요인입니다. 예를 들어, 외국 경제 성장 속도의 저하, 외국 통화 가치의 하락 등이 원화의 가치를 하락시키는 요인입니다. 이는 투자자들이 원화를 팔아 달러를 구입하게 되어 원화의 가치가 하락합니다. |\n",
      "| 4. 정치적 위험 | 정치적 위험이 원화의 가치를 하락시키는 요인입니다. 예를 들어, 국내 정치적 불안정성, 국제 정치적 불안정성 등이 원화의 가치를 하락시키는 요인입니다. 이는 투자자들이 원화를 팔아 달러를 구입하게 되어 원화의 가치가 하락합니다. |\n"
     ]
    }
   ],
   "source": [
    "question = \"\"\"\n",
    "2025년 5월 1일부터 오늘까지의의 한국어/영어/중국어 기사 중 원/달러 환율과 달러화 내용을을 조사한 후,\n",
    "최근 기사에서 제시하는 원화의 통화 가치가 하락할 요인 4가지를 (요인 | 설명) [표] 형식 보여주세요.\n",
    "\"\"\"\n",
    "\n",
    "for i in range(5):\n",
    "    answer = ask_le_chat(api_key, question, temperature=0.2)\n",
    "    if \"| --- | --- |\" in answer:\n",
    "        break\n",
    "\n",
    "print(answer)"
   ]
  },
  {
   "cell_type": "code",
   "execution_count": 212,
   "id": "d6139d52",
   "metadata": {},
   "outputs": [],
   "source": [
    "contents = []\n",
    "for i, text in enumerate(answer.split(\"\\n\")):\n",
    "    if i == 0:\n",
    "        continue\n",
    "    if \"| --- | --- |\" in text:\n",
    "        continue\n",
    "    if \"|\" in text:\n",
    "        temp = text.split(\"|\")[1:3]\n",
    "        contents.append(temp)"
   ]
  },
  {
   "cell_type": "code",
   "execution_count": 213,
   "id": "aaf98ce3",
   "metadata": {},
   "outputs": [],
   "source": [
    "pd.DataFrame(contents, columns=['요인', '설명']).to_csv(\"원화_약세_요인.csv\", encoding='utf-8', index=False)"
   ]
  }
 ],
 "metadata": {
  "kernelspec": {
   "display_name": "base",
   "language": "python",
   "name": "python3"
  },
  "language_info": {
   "codemirror_mode": {
    "name": "ipython",
    "version": 3
   },
   "file_extension": ".py",
   "mimetype": "text/x-python",
   "name": "python",
   "nbconvert_exporter": "python",
   "pygments_lexer": "ipython3",
   "version": "3.9.21"
  }
 },
 "nbformat": 4,
 "nbformat_minor": 5
}
