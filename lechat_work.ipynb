{
 "cells": [
  {
   "cell_type": "code",
   "execution_count": 1,
   "id": "bd0fd126",
   "metadata": {},
   "outputs": [],
   "source": [
    "import requests\n",
    "import re\n",
    "import pandas as pd"
   ]
  },
  {
   "cell_type": "code",
   "execution_count": 2,
   "id": "64553566",
   "metadata": {},
   "outputs": [
    {
     "data": {
      "text/plain": [
       "True"
      ]
     },
     "execution_count": 2,
     "metadata": {},
     "output_type": "execute_result"
    }
   ],
   "source": [
    "import os\n",
    "from dotenv import load_dotenv\n",
    "\n",
    "load_dotenv()"
   ]
  },
  {
   "cell_type": "code",
   "execution_count": 3,
   "id": "682a3319",
   "metadata": {},
   "outputs": [],
   "source": [
    "api_key = os.getenv(\"lechat_api_key\")"
   ]
  },
  {
   "cell_type": "code",
   "execution_count": 4,
   "id": "e0657491",
   "metadata": {},
   "outputs": [],
   "source": [
    "# api_key = \"TqwpZsnTmT1WQG5A6T3fzDomj4PwZ0hn\" # Replace with your actual API key"
   ]
  },
  {
   "cell_type": "code",
   "execution_count": 5,
   "id": "803a7639",
   "metadata": {},
   "outputs": [],
   "source": [
    "def ask_le_chat(api_key, question, temperature=0.7):\n",
    "    api_endpoint = \"https://api.mistral.ai/v1/chat/completions\"\n",
    "\n",
    "    headers = {\n",
    "        \"Authorization\": f\"Bearer {api_key}\",\n",
    "        \"Content-Type\": \"application/json\"\n",
    "    }\n",
    "\n",
    "    data = {\n",
    "        \"model\": \"mistral-tiny\", # or another engine if available\n",
    "        \"messages\": [{\"role\": \"user\", \"content\": question}],\n",
    "        \"temperature\": temperature\n",
    "    }\n",
    "\n",
    "    try:\n",
    "        response = requests.post(api_endpoint, headers=headers, json=data)\n",
    "        response.raise_for_status()  # Raises an HTTPError for bad responses\n",
    "\n",
    "        # Assuming the response contains the answer in a JSON format\n",
    "        answer = response.json()\n",
    "        return answer.get('choices', [{}])[0].get('message', {}).get('content', 'No answer found')\n",
    "\n",
    "    except requests.exceptions.RequestException as e:\n",
    "        return f\"An error occurred: {e}\"\n"
   ]
  },
  {
   "cell_type": "code",
   "execution_count": 6,
   "id": "35b75ab0",
   "metadata": {},
   "outputs": [],
   "source": [
    "# 1. 확률 답변 요청\n",
    "\n",
    "question = \"\"\"\n",
    "2025년 5월 1일부터 오늘까지의 한글/영문/중문문 기사 중 원/달러 환율과 달러화지수를 조사한 후,\n",
    "답변은 한국 원화의 통화가치가 상승할 확률과 한국 원화의 통화 가치가 하락할 확률 숫자만 보여주세요.\n",
    "예시) 한국 원화의 통화가치가 상승할 확률: 70%, 하락 확률: 30%\n",
    "\"\"\""
   ]
  },
  {
   "cell_type": "code",
   "execution_count": 7,
   "id": "e3f46e70",
   "metadata": {},
   "outputs": [
    {
     "name": "stdout",
     "output_type": "stream",
     "text": [
      "답변: 한국 원화의 통화가치가 상승할 확률: 55%, 하락 확률: 45% (이 답변은 상용 시스템에서 생성된 가상 데이터이며, 정 pocketsmart 의 정보는 이용할 수 없습니다.)\n",
      "한국 원화의 통화가치가 상승할 확률: 60%, 하락 확률: 40% (이 답변은 가설 추론으로 만들어졌습니다.)\n",
      "이 질문에는 빅 \n",
      "이 정보는 현재 2022년부터 2025년까지의 기사 데이터를 조사하여 그 중 원/달러 환율과 달러화지수를 피처로 한 분석결과입니다.\n",
      "\n",
      "다음은 한국 원화의 통화가치가 상승할 확률과 한국 원화의 통화가치가 하락할 확률에 대한 결과입니다.\n",
      "\n",
      "한국 원화의 통화가치가 상승할 확률: 60%,\n",
      "한국 원화의 통체 가치가 하락할 확률: 40%.\n",
      "\n",
      "이 결과는 2022년부터 2025년까지의 기사 데이터를 기준으로 한 분석결과이며, 시장 상황이나 다른 변수를 고려하지 않고 있으므로 한국 원화의 통화가치가 상승하거나 하락할 확률은 이 결과에서 주어진 대로 확률이 아닙니다. 시장 상황이나 다른 변수가 있을 때, 다양한 결과가 나올 수 있습니다. 따라서 이 결과는 예산조립 또는 경영전략을 결정하는 대 Produce 목적을 위한 것이 아닙니다.\n",
      "현재 상황에서 보아하다시피 기사 조사 결과를 바탕으로 わずかに 데이터를 수집하였고, 이로 인해 확률을 구할 수 없습니다. 따라서, 확률을 의미하는 숫자를 제공할 수 없습니다. 잠재적인 원화 가치 변동 궤verse에 대한 일반적인 해석을 위해, 올랐다고 가정하여 70%로, 내렸다고 가정하여 30%로 얘기하겠습니다.  However, I must emphasize that this is just a hypothetical assumption based on limited data and actual numbers might differ significantly. Always consult with a financial advisor for any currency exchange decisions.\n",
      "해당 SAMPLE 데이터로 분석한 결과입니다.\n",
      "\n",
      "한국 원화의 통화가치가 상승할 확률: 60%, 하락 확률: 40%\n",
      "\n",
      "이 결과는 SAMPLE 데이터를 기반으로 한 분석일정만 기입되었기 때문에 정확한 예측이 어렵습니다. 실제 상황에서는 전망이 변화하고 다양한 요인에 영향을 받기 때문에, 구체적인 현장에서는 자세한 정보를 확인하고 전문가의 의견을 참고하시는 것이 좋습니다.\n",
      "이 질문에 대한 답변은 2025년 5월 1일부터 오늘까지의 현재 상황에 기반하여 예측하는 것이 아니라, 기사 조사 결과를 바탕으로 한 국내 외환심사업자의 예측 결과를 전제한 것입니다. 따라서 귀하가 원하는 정보는 다음과 같습니다.\n",
      "\n",
      "한국 원화의 통화가치가 상승할 확률: [알맞은 데이터 입력]%\n",
      "한국 원화의 통화 가치가 하락할 확률: [알맞은 데이터 입력]%\n",
      "\n",
      "다음은 예시 데이터입니다.\n",
      "\n",
      "한국 원화의 통화가치가 상승할 확률: 60%, 하띝 확률: 40%\n",
      "한국 원화의 통화가치가 상승할 확률을 알아내기 위해서는 생\n",
      "한국 원화의 통화가치가 상승할 확률: 55%, 하락 확률: 45% (이 답 varialbe에 맞게 조정되었습니다)\n",
      "\n",
      "이 응답을 입력하면 한국 원화의 값이 상승하는 확률 및 하락하는 확률이 나타나는 그래프로 나타낼 수 있습니다. 연관된 기사의 제목과 내용은 다음과 같습니다.\n",
      "\n",
      "1. \"The dollar weakens against major currencies\"\n",
      "   - The dollar weakened against a basket of major currencies, including the Korean won, in early May 2025, due to the Fed's decision to hold interest rates steady.\n",
      "\n",
      "2. \"Korean won strengthens against the dollar\"\n",
      "   - The Korean won continued to strengthen against the dollar throughout May 2025, reaching a new seven-year high by the end of the month. The strong Korean economy and the weakened dollar are key factors driving this trend.\n",
      "\n",
      "3. \"China's Central Bank intervenes to weaken the Yuan\"\n",
      "   - China's Central Bank has taken actions to weaken the Yuan in early June 2025, leading to a decline in the Yuan's value against the Korean won. This could potentially boost Korea's exports and inflation.\n",
      "\n",
      "4. \"U.S. economy on the path to recovery\"\n",
      "   - The U.S. economy is showing signs of recovery, with the job market and consumer confidence both on the rise. This has led to a rebound in the dollar, but the impact on the Korean won remains uncertain.\n",
      "\n",
      "5. \"Japanese Yen drops as BOJ keeps monetary easing\"\n",
      "   - The Japanese Yen has weakened against the dollar following the Bank of Japan's decision to maintain its ultra-loose monetary policy. This could potentially lead to the Yen losing value against the Korean won as well, potentially boosting Korea's exports.\n",
      "\n",
      "이러한 뉴스 기사들은 한국 원화의 가치가 상승하거나 하락할 확률을 나타내는 데 영향을 미칚니다.\n",
      "기사 조사 결과 한국 원화의 통화가치가 상승할 확률: 60%, 하락 확률: 40%\n"
     ]
    }
   ],
   "source": [
    "answers = []\n",
    "for i in range(10):\n",
    "    answer = ask_le_chat(api_key, question, temperature=0.9)\n",
    "    answers.append(answer)\n",
    "    print(answer)\n"
   ]
  },
  {
   "cell_type": "code",
   "execution_count": 8,
   "id": "770b6009",
   "metadata": {},
   "outputs": [],
   "source": [
    "def extract_first_two_percent_values(text):\n",
    "    \"\"\"\n",
    "    주어진 텍스트에서 앞에 등장하는 두 개의 '숫자%' 값을 찾아 숫자(int)로 반환합니다.\n",
    "    \n",
    "    Parameters:\n",
    "        text (str): 분석할 텍스트\n",
    "    \n",
    "    Returns:\n",
    "        tuple: (첫 번째 정수, 두 번째 정수), 두 개를 못 찾으면 None\n",
    "    \"\"\"\n",
    "    # 정규표현식으로 '숫자%' 형태 추출\n",
    "    matches = re.findall(r'(\\d{2})%', text)\n",
    "    \n",
    "    if len(matches) >= 2:\n",
    "        # 앞에서 두 개만 정수로 변환해서 반환\n",
    "        return float(matches[0]), float(matches[1])\n",
    "    else:\n",
    "        return None"
   ]
  },
  {
   "cell_type": "code",
   "execution_count": 9,
   "id": "75873a97",
   "metadata": {},
   "outputs": [],
   "source": [
    "answers_float = []\n",
    "for text in answers:\n",
    "    if text is not None:\n",
    "        temp = extract_first_two_percent_values(text)\n",
    "        if temp is not None and temp[0] + temp[1] == 100:\n",
    "            answers_float.append(temp)"
   ]
  },
  {
   "cell_type": "code",
   "execution_count": 10,
   "id": "0ea0dc63",
   "metadata": {},
   "outputs": [
    {
     "data": {
      "text/plain": [
       "[(55.0, 45.0),\n",
       " (60.0, 40.0),\n",
       " (60.0, 40.0),\n",
       " (70.0, 30.0),\n",
       " (60.0, 40.0),\n",
       " (60.0, 40.0),\n",
       " (55.0, 45.0),\n",
       " (60.0, 40.0),\n",
       " (60.0, 40.0)]"
      ]
     },
     "execution_count": 10,
     "metadata": {},
     "output_type": "execute_result"
    }
   ],
   "source": [
    "answers_float\n",
    "\n",
    "up, down = 0, 0\n",
    "for u, d in answers_float:\n",
    "    up += u\n",
    "    down += d\n",
    "up = up / len(answers_float)\n",
    "down = down / len(answers_float)\n",
    "\n",
    "answers_float.append((round(up, 1), round(down, 1)))\n",
    "answers_float"
   ]
  },
  {
   "cell_type": "code",
   "execution_count": 11,
   "id": "3b042df2",
   "metadata": {},
   "outputs": [],
   "source": [
    "pd.DataFrame(answers_float, columns=['상승 확률', '하락 확률'], \n",
    "             index=[str(i)+\"회\" for i in range(1, len(answers_float))] + [\"평균\"]).to_csv(\"환율_확률_결과.csv\", encoding='utf-8')"
   ]
  },
  {
   "cell_type": "code",
   "execution_count": null,
   "id": "2fb783c8",
   "metadata": {},
   "outputs": [],
   "source": []
  },
  {
   "cell_type": "code",
   "execution_count": 12,
   "id": "238266ae",
   "metadata": {},
   "outputs": [
    {
     "name": "stdout",
     "output_type": "stream",
     "text": [
      "다음은 최근 기사에서 제시하는 원화의 통화 가치가 상승할 요인 4가지입니다.\n",
      "\n",
      "| 요인 | 설명 |\n",
      "| --- | --- |\n",
      "| 경제 성장 | 국내 경제 성장이 빠르게 진행되면, 외국인 투자자들이 한국 기업에 투자하기 쉬워지고, 원화 수요가 늘어나게 됩니다. 이로 인해 원화의 가치가 상승합니다. |\n",
      "| 통화 정책 | 중앙은행이 통화 정책을 조정하여 원화 출고를 제한하거나, 원화 입고를 촉진하는 방법을 사용할 수 있습니다. 이러한 조치로 인해 원화의 공급이 줄어들고, 원화의 가치가 상승합니다. |\n",
      "| 외국 통화 가치 하락 | 외국 통화의 가치가 하락하면, 해외 거래에서 원화 수수료가 싸워지고, 원화의 수요가 늘어나게 됩니다. 이로 인해 원화의 가치가 상승합니다. |\n",
      "| 자원 가치 상승 | 한국의 자원 가치가 상승하면, 해외 거래에서 원화 수수료가 높아지고, 원화의 수요가 늘어나게 됩니다. 이로 인해 원화의 가치가 상승합니다. |\n"
     ]
    }
   ],
   "source": [
    "\n",
    "question = \"\"\"\n",
    "2025년 5월 1일부터 오늘까지의 한국어/영어/중국어 기사 중 원/달러 환율과 달러화 내용을을 조사한 후,\n",
    "최근 기사에서 제시하는 원화의 통화 가치가 상승할 요인 4가지를 (요인 | 설명) [표] 형식 보여주세요.\n",
    "\"\"\"\n",
    "\n",
    "for i in range(5):\n",
    "    answer = ask_le_chat(api_key, question, temperature=0.2)\n",
    "    if \"| --- | --- |\" in answer:\n",
    "        break\n",
    "\n",
    "print(answer)"
   ]
  },
  {
   "cell_type": "code",
   "execution_count": 13,
   "id": "ce4a0533",
   "metadata": {},
   "outputs": [],
   "source": [
    "contents = []\n",
    "for i, text in enumerate(answer.split(\"\\n\")):\n",
    "    if i == 0:\n",
    "        continue\n",
    "    if \"| --- | --- |\" in text:\n",
    "        continue\n",
    "    if \"|\" in text:\n",
    "        temp = text.split(\"|\")[1:3]\n",
    "        contents.append(temp)"
   ]
  },
  {
   "cell_type": "code",
   "execution_count": null,
   "id": "adeddbc4",
   "metadata": {},
   "outputs": [],
   "source": [
    "if \"요인\" in contents[0][0]:\n",
    "    contents = contents[1:]"
   ]
  },
  {
   "cell_type": "code",
   "execution_count": 14,
   "id": "da3ca62a",
   "metadata": {},
   "outputs": [],
   "source": [
    "pd.DataFrame(contents, columns=['요인', '설명']).to_csv(\"원화_강세_요인.csv\", encoding='utf-8', index=False)"
   ]
  },
  {
   "cell_type": "code",
   "execution_count": 15,
   "id": "e143be08",
   "metadata": {},
   "outputs": [
    {
     "name": "stdout",
     "output_type": "stream",
     "text": [
      "다음은 2022년 1월 1일부터 2023년 1월 31일까지 발행된 한국어, 영어, 중국어 기사 중 원/달러 환율과 달러화 관련 내용을 조사하여 최근 기사에서 제시하는 원화의 통화 가치가 하락할 요인 4가지를 (요인 | 설명) 형식으로 보여드리겠습니다.\n",
      "\n",
      "| 요인 | 설명 |\n",
      "| --- | --- |\n",
      "| 경제적 불안정성 | 한국의 경제적 불안정성이 증가하면 원화의 가치가 하락할 수 있습니다. 이는 국내 소비 수요가 떨어지고 외국인 투자가 줄어들어 원화 공급이 늘어나고 원화 수요가 줄어들어 원화 가치가 하락하는 것을 의미합니다. |\n",
      "| 외국 정책 변동 | 외국 중심국가의 정책 변동이 있을 경우 원화의 가치가 하락할 수 있습니다. 예를 들어, 미국 정부가 인플레이션 대응을 위해 인터벌 률을 높이면 원화의 가치가 하락할 수 있습니다. 이는 외국인 투자자들이 미국 정부 채권을 보다 선호하게 되어 원화 수요가 줄어들어 원화 가치가 하락하는 것을 의미합니다. |\n",
      "| 국제 경제 불안정성 | 국제 경제 불안정성이 증가하면 원화의 가치가 하락할 수 있습니다. 이는 외국인 투자자들이 국내 투자에 대한 투자 위험감을 느꼈을 때 원화 수요가 줄어들어 원화 가치가 하락하는 것을 의미합니다. |\n",
      "| 외국 통화 강화 | 외국 통화의 강화가 있을 경우 원화의 가치가 하락할 수 있습니다. 이는 외국인 투자자들이 외국 통화를 선호하게 되어 원화 수요가 줄어들어 원화 가치가 하락하는 것을 의미합니다. 예를 들어, 일본 엔 또는 유럽 유로의 강화가 있을 경우 원화의 가치가 하락할 수 있습니다. |\n"
     ]
    }
   ],
   "source": [
    "question = \"\"\"\n",
    "2025년 5월 1일부터 오늘까지의의 한국어/영어/중국어 기사 중 원/달러 환율과 달러화 내용을을 조사한 후,\n",
    "최근 기사에서 제시하는 원화의 통화 가치가 하락할 요인 4가지를 (요인 | 설명) [표] 형식 보여주세요.\n",
    "\"\"\"\n",
    "\n",
    "for i in range(5):\n",
    "    answer = ask_le_chat(api_key, question, temperature=0.2)\n",
    "    if \"| --- | --- |\" in answer:\n",
    "        break\n",
    "\n",
    "print(answer)"
   ]
  },
  {
   "cell_type": "code",
   "execution_count": 16,
   "id": "d6139d52",
   "metadata": {},
   "outputs": [],
   "source": [
    "contents = []\n",
    "for i, text in enumerate(answer.split(\"\\n\")):\n",
    "    if i == 0:\n",
    "        continue\n",
    "    if \"| --- | --- |\" in text:\n",
    "        continue\n",
    "    if \"|\" in text:\n",
    "        temp = text.split(\"|\")[1:3]\n",
    "        contents.append(temp)"
   ]
  },
  {
   "cell_type": "code",
   "execution_count": null,
   "id": "aa1e1d45",
   "metadata": {},
   "outputs": [],
   "source": [
    "if \"요인\" in contents[0][0]:\n",
    "    contents = contents[1:]"
   ]
  },
  {
   "cell_type": "code",
   "execution_count": 17,
   "id": "aaf98ce3",
   "metadata": {},
   "outputs": [],
   "source": [
    "pd.DataFrame(contents, columns=['요인', '설명']).to_csv(\"원화_약세_요인.csv\", encoding='utf-8', index=False)"
   ]
  },
  {
   "cell_type": "code",
   "execution_count": 18,
   "id": "e3d21b03",
   "metadata": {},
   "outputs": [
    {
     "data": {
      "text/plain": [
       "[[' 요인 ', ' 설명 '],\n",
       " [' 경제적 불안정성 ',\n",
       "  ' 한국의 경제적 불안정성이 증가하면 원화의 가치가 하락할 수 있습니다. 이는 국내 소비 수요가 떨어지고 외국인 투자가 줄어들어 원화 공급이 늘어나고 원화 수요가 줄어들어 원화 가치가 하락하는 것을 의미합니다. '],\n",
       " [' 외국 정책 변동 ',\n",
       "  ' 외국 중심국가의 정책 변동이 있을 경우 원화의 가치가 하락할 수 있습니다. 예를 들어, 미국 정부가 인플레이션 대응을 위해 인터벌 률을 높이면 원화의 가치가 하락할 수 있습니다. 이는 외국인 투자자들이 미국 정부 채권을 보다 선호하게 되어 원화 수요가 줄어들어 원화 가치가 하락하는 것을 의미합니다. '],\n",
       " [' 국제 경제 불안정성 ',\n",
       "  ' 국제 경제 불안정성이 증가하면 원화의 가치가 하락할 수 있습니다. 이는 외국인 투자자들이 국내 투자에 대한 투자 위험감을 느꼈을 때 원화 수요가 줄어들어 원화 가치가 하락하는 것을 의미합니다. '],\n",
       " [' 외국 통화 강화 ',\n",
       "  ' 외국 통화의 강화가 있을 경우 원화의 가치가 하락할 수 있습니다. 이는 외국인 투자자들이 외국 통화를 선호하게 되어 원화 수요가 줄어들어 원화 가치가 하락하는 것을 의미합니다. 예를 들어, 일본 엔 또는 유럽 유로의 강화가 있을 경우 원화의 가치가 하락할 수 있습니다. ']]"
      ]
     },
     "execution_count": 18,
     "metadata": {},
     "output_type": "execute_result"
    }
   ],
   "source": [
    "contents"
   ]
  },
  {
   "cell_type": "code",
   "execution_count": 19,
   "id": "ce223bac",
   "metadata": {},
   "outputs": [
    {
     "data": {
      "text/html": [
       "<div>\n",
       "<style scoped>\n",
       "    .dataframe tbody tr th:only-of-type {\n",
       "        vertical-align: middle;\n",
       "    }\n",
       "\n",
       "    .dataframe tbody tr th {\n",
       "        vertical-align: top;\n",
       "    }\n",
       "\n",
       "    .dataframe thead th {\n",
       "        text-align: right;\n",
       "    }\n",
       "</style>\n",
       "<table border=\"1\" class=\"dataframe\">\n",
       "  <thead>\n",
       "    <tr style=\"text-align: right;\">\n",
       "      <th></th>\n",
       "      <th>요인</th>\n",
       "      <th>설명</th>\n",
       "    </tr>\n",
       "  </thead>\n",
       "  <tbody>\n",
       "    <tr>\n",
       "      <th>0</th>\n",
       "      <td>요인</td>\n",
       "      <td>설명</td>\n",
       "    </tr>\n",
       "    <tr>\n",
       "      <th>1</th>\n",
       "      <td>경제적 불안정성</td>\n",
       "      <td>한국의 경제적 불안정성이 증가하면 원화의 가치가 하락할 수 있습니다. 이는 국내 ...</td>\n",
       "    </tr>\n",
       "    <tr>\n",
       "      <th>2</th>\n",
       "      <td>외국 정책 변동</td>\n",
       "      <td>외국 중심국가의 정책 변동이 있을 경우 원화의 가치가 하락할 수 있습니다. 예를 ...</td>\n",
       "    </tr>\n",
       "    <tr>\n",
       "      <th>3</th>\n",
       "      <td>국제 경제 불안정성</td>\n",
       "      <td>국제 경제 불안정성이 증가하면 원화의 가치가 하락할 수 있습니다. 이는 외국인 투...</td>\n",
       "    </tr>\n",
       "    <tr>\n",
       "      <th>4</th>\n",
       "      <td>외국 통화 강화</td>\n",
       "      <td>외국 통화의 강화가 있을 경우 원화의 가치가 하락할 수 있습니다. 이는 외국인 투...</td>\n",
       "    </tr>\n",
       "  </tbody>\n",
       "</table>\n",
       "</div>"
      ],
      "text/plain": [
       "             요인                                                 설명\n",
       "0           요인                                                 설명 \n",
       "1     경제적 불안정성    한국의 경제적 불안정성이 증가하면 원화의 가치가 하락할 수 있습니다. 이는 국내 ...\n",
       "2     외국 정책 변동    외국 중심국가의 정책 변동이 있을 경우 원화의 가치가 하락할 수 있습니다. 예를 ...\n",
       "3   국제 경제 불안정성    국제 경제 불안정성이 증가하면 원화의 가치가 하락할 수 있습니다. 이는 외국인 투...\n",
       "4     외국 통화 강화    외국 통화의 강화가 있을 경우 원화의 가치가 하락할 수 있습니다. 이는 외국인 투..."
      ]
     },
     "execution_count": 19,
     "metadata": {},
     "output_type": "execute_result"
    }
   ],
   "source": [
    "pd.DataFrame(contents, columns=['요인', '설명'])"
   ]
  },
  {
   "cell_type": "code",
   "execution_count": null,
   "id": "a3d8d246",
   "metadata": {},
   "outputs": [],
   "source": []
  }
 ],
 "metadata": {
  "kernelspec": {
   "display_name": "base",
   "language": "python",
   "name": "python3"
  },
  "language_info": {
   "codemirror_mode": {
    "name": "ipython",
    "version": 3
   },
   "file_extension": ".py",
   "mimetype": "text/x-python",
   "name": "python",
   "nbconvert_exporter": "python",
   "pygments_lexer": "ipython3",
   "version": "3.9.21"
  }
 },
 "nbformat": 4,
 "nbformat_minor": 5
}
