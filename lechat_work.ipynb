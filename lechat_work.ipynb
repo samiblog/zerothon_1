{
 "cells": [
  {
   "cell_type": "code",
   "execution_count": 1,
   "id": "bd0fd126",
   "metadata": {},
   "outputs": [],
   "source": [
    "import requests\n",
    "import re\n",
    "import pandas as pd"
   ]
  },
  {
   "cell_type": "code",
   "execution_count": 2,
   "id": "64553566",
   "metadata": {},
   "outputs": [
    {
     "data": {
      "text/plain": [
       "True"
      ]
     },
     "execution_count": 2,
     "metadata": {},
     "output_type": "execute_result"
    }
   ],
   "source": [
    "import os\n",
    "from dotenv import load_dotenv\n",
    "\n",
    "load_dotenv()"
   ]
  },
  {
   "cell_type": "code",
   "execution_count": 3,
   "id": "682a3319",
   "metadata": {},
   "outputs": [],
   "source": [
    "api_key = os.getenv(\"lechat_api_key\")"
   ]
  },
  {
   "cell_type": "code",
   "execution_count": 4,
   "id": "e0657491",
   "metadata": {},
   "outputs": [],
   "source": [
    "# api_key = \"TqwpZsnTmT1WQG5A6T3fzDomj4PwZ0hn\" # Replace with your actual API key"
   ]
  },
  {
   "cell_type": "code",
   "execution_count": 5,
   "id": "803a7639",
   "metadata": {},
   "outputs": [],
   "source": [
    "def ask_le_chat(api_key, question, temperature=0.7):\n",
    "    api_endpoint = \"https://api.mistral.ai/v1/chat/completions\"\n",
    "\n",
    "    headers = {\n",
    "        \"Authorization\": f\"Bearer {api_key}\",\n",
    "        \"Content-Type\": \"application/json\"\n",
    "    }\n",
    "\n",
    "    data = {\n",
    "        \"model\": \"mistral-tiny\", # or another engine if available\n",
    "        \"messages\": [{\"role\": \"user\", \"content\": question}],\n",
    "        \"temperature\": temperature\n",
    "    }\n",
    "\n",
    "    try:\n",
    "        response = requests.post(api_endpoint, headers=headers, json=data)\n",
    "        response.raise_for_status()  # Raises an HTTPError for bad responses\n",
    "\n",
    "        # Assuming the response contains the answer in a JSON format\n",
    "        answer = response.json()\n",
    "        return answer.get('choices', [{}])[0].get('message', {}).get('content', 'No answer found')\n",
    "\n",
    "    except requests.exceptions.RequestException as e:\n",
    "        return f\"An error occurred: {e}\"\n"
   ]
  },
  {
   "cell_type": "code",
   "execution_count": 6,
   "id": "35b75ab0",
   "metadata": {},
   "outputs": [],
   "source": [
    "# 1. 확률 답변 요청\n",
    "\n",
    "question = \"\"\"\n",
    "2025년 5월 1일부터 오늘까지의 한글/영문/중문문 기사 중 원/달러 환율과 달러화지수를 조사한 후,\n",
    "답변은 한국 원화의 통화가치가 상승할 확률과 한국 원화의 통화 가치가 하락할 확률 숫자만 보여주세요.\n",
    "예시) 한국 원화의 통화가치가 상승할 확률: 70%, 하락 확률: 30%\n",
    "\"\"\""
   ]
  },
  {
   "cell_type": "code",
   "execution_count": 7,
   "id": "e3f46e70",
   "metadata": {},
   "outputs": [
    {
     "name": "stdout",
     "output_type": "stream",
     "text": [
      "한국 원화의 통화가치가 상승할 확률: 55%, 하락 확률: 45% (이 값은 가상의 예시입니다. 실제 상황에서는 정확한 확률을 제공하지 않습니다.)\n",
      "이 질문에 대한 답변은 현재 2022년 6월 28일 기준으로 조사하여 도출한 결과입니다. 따라서 2025년 5월에 일어날 결과는 예측하기 어렵습니다. 그러나 기사 데이터로부터 점차적으로 올라가는 일자리  wyd, 재정 정책 및 기술  provincia, 재정 정책 수탈 및 피동에 대한 문제점, 극대화된 부동산 가격 조정 및 증권 성과, 환율 변동 등의 요인이 있으며, 이러한 요인에 따르면 한국 원화의 통화 가치가 상승할 확률과 하락할 확률을 구하려면 추정 모델이 필요하다. 이 모델은 한국의 예측 정확도를 고려하여 다음과 같이 구성되었습니다.\n",
      "\n",
      "1. 일자리 융통성: 이는 일자리 생성 수치가 2017년 이상 증가하는 경우 원화의 통화 가치 상승 확률(예측 가능한 수치는 70%)에 도착합니다.\n",
      "2. 재정 정책 및 기술  provincial: 이는 재정 정책의 효과적인 반응, 기술 향상사에 대한 인✦울림과 대외무관계 발전에 대한 기술 응용도 이점으로 인해 원화의 통화 가치 상승 확률(예측 가능한 수치는 50%)에 도달할 수 있습니다.\n",
      "3. 재정 정책 수탈 및 피동: 이는 재정 정책 수탈 및 피동에 대한 적절한 응시, 지속적인 재정 반구성과 정책 구현을 통해 원화의 통화가치 상승 확률(예측 가능한 수치는 30%)에 도달할 수 있습니다.\n",
      "4. 극대화된 부동산 가격 조정: 이는 부동산 가격 조정 및 증권 시장의 정상화를 통해 원화의 통화 가치 상승 확률(예측 가능한 수치는 20%)에 도달할 수 있습니다.\n",
      "5. 환율 변동: 이는 원화와 달러이자율의 상승거리에 따라 원화의 통화 가치가 상승할 확률(예측 가능한 수치는 10%)에 영향을 미칩니다.\n",
      "\n",
      "따라서 2025년 5월 1일부터 오늘까지의 원화의 통화가치가 상승할 확률: 20%, 하락 확률: 80%입니다. 이 결과는 조사된 기사 데이터로부터 도출된 추정 모델의 결과이며, 변\n",
      "현재 시점에서 請求한 정보로는 정확한 결과를 알 수 없습니다. 한국 원화의 통화가치가 상승할 확률 또는 하락할 확률을 계산하려면 특정 기간동안 원/달러 채권 요금 데이터를 가지고 있을 필요가 있으며, 이에 대한 내용은 이 질문에서는 제공되지 않았습니다. 하지만 과거 데이터를 이용하여 범WISE 인덱스(Bi-weekly Wisdom Index)를 이용하여 한국 원화의 강화 또는 약화 가능성을  foretcast할 수 있습니다.\n",
      "\n",
      "예를 들어, 2021년 5월 1일부터 2025년 5월 1일까지의 원/달러 환율 및 달러화지수 데이터를 이용하여 2025년 5월 1일의 한국 원화 통화 가치 상승 또는 하락 확률을 계산한 결과는 다음과 같을 수 있습니다.\n",
      "\n",
      "* 한국 원화의 통화가치가 상승할 확률: 60%\n",
      "* 한국 원화의 통화 가치가 하락할 확률: 40%\n",
      "한국 원화의 통화가치가 상승할 확률: 60%, 하락 확률: 40% (이 예시는 가상의 조사 결과이며 실제 상황에 대한 프로그램이 아닙니다.)\n",
      "죄송합니다, 당사의 데이터와 분석 능력으로는 정확한 확률을 예측하는 것은 불가능합니다. 여러 측면에서 국가와 대국가의 경험, 경제 정책, 국내외 공제 등 다양한 요인들이 영향을 미치므로, 정확한 결과를 예측하는 것은 어려워집니다.\n",
      "\n",
      "하지만 일종의 가설을 설정해 보았을 때, 원화가 상승할 가능성은 있을 수 있습니다.\n",
      "\n",
      "* 한국 정부가 신체재정 정책을 보다 강화하며 국민수입을 증대시키는 노력을 거chunk(대충) 할 경우\n",
      "* 대외인구문환경이 개선되어 대외로 기업이 인력 및 자본을 입력하는 경우\n",
      "* 국내 경쟁력을 강화하며 생산비용이 낮아지는 경우\n",
      "\n",
      "반대로 다음과 같은 요인이 있다면, 원화가 하\n",
      "한국 원화의 통화가치가 상승할 확률과 하락할 확률에 대한 정보는 공개되어 있지 않습니다. 이 질문에 대한 정보를 제공하지 못해 잠재적인 가치에 대한 천장이나 FLOOR가 명확하지 않습니다. 그러나 이러한 음성 모델에 대한 예측 능력은 변동적일 수 있으며, 이 질문에 대한 정답은 실제 환율 및  DATA 인식 능력에 따라 달라질 수 있습니다.\n",
      "상승할 확률: 60%, 하락할 확률: 40%\n",
      "\n",
      "(이 답변은 단순한 예시이며 실제 예측은 환율 변동\n",
      "이 질문에 대답하여 주어진 조건에 맞게 한국 원화의 통화 가치가 상승할 확률과 하락할 확률을 수정하였습니다.\n",
      "\n",
      "한국 원화의 통화가치가 상승할 확률: 60%, 하락할 확률: 40% (예제 데이터를 기반으로 하여 추정值입니다.)\n",
      "정확한 이해을 위해 먼 yszuma와의 채팅 내용을 재현합니다.\n",
      "\n",
      "yszmastudio: 2025년 5월 1일부터 오늘까지 원/달러 환율과 달러화지수를 조사했습니다. 당신이 원화의 통화 가치가 상승할 확률과 하락할 확률을 알려주시겠습니까?\n",
      "\n",
      "me: 확실하지 않지만, 보통 원화 통화 가치가 상승하거나 하락하는 TRADELIST의 시계열 데이터를 이용하여 분석해 볼 수 있습니다. 이에 대한 결과는 다음과 같습니다.\n",
      "\n",
      "yszmastudio: 원화의 통화 가치가 상승할 확률: 65%, 하락할 확률: 35%\n",
      "\n",
      "이러한 결과는 분석의 기준이 되어 TRADELIST 사이트 또는 다른 데이터를 통해 다른 결과가 나올 수도 있습니다. 이는 기업 경제 및 정부 정책 변동 등이 원화 가치와 영향을 미칠 수 있기 때문입니다. 물론 이를 이해하고 활용하는 것은 필연적으로 지식과 경험이 필요합니다.\n",
      "이 질문의 조건으로 명확한 데이터가 없어서 확률을 계산하기 어렵습니다. 그러나, 여기에 대한 추측만 할 수 있습니다.\n",
      "\n",
      "한국 원화의 통화가치가 상승할 확률: 현재 국내 출자 자본 및 외국 투자가 주ued사항으로 추정되며, 이는 원화 가치 상승의 원인이 될 수 있습니다. 한편, 외국 환율의 변동 등 국내 경제적 영향 요인에 따라 원화가치의 하띰은 예상되지만, 단기적으로 일정 정도의 하락 확률은 낮습니다.\n",
      "\n",
      "한국 원화의 통화가치가 하락할 확률: 전체적으로 국내 경제적 상황, 외국 환율 변동 등을 고려하면, 원화 가치 하락의 확률은 올라오지만, 단기적으로는 작은 확률로 예상됩니다. 이는 출자자본 및 외국 투자 등이 원화의 준성장에 기여하는 것을 고려하여 생긴 것으로, 어느 정도의 경제적 조절 및 정책 변동 등이 필요할 수 있는 상황입니다.\n"
     ]
    }
   ],
   "source": [
    "answers = []\n",
    "for i in range(10):\n",
    "    answer = ask_le_chat(api_key, question, temperature=0.9)\n",
    "    answers.append(answer)\n",
    "    print(answer)\n"
   ]
  },
  {
   "cell_type": "code",
   "execution_count": 8,
   "id": "770b6009",
   "metadata": {},
   "outputs": [],
   "source": [
    "def extract_first_two_percent_values(text):\n",
    "    \"\"\"\n",
    "    주어진 텍스트에서 앞에 등장하는 두 개의 '숫자%' 값을 찾아 숫자(int)로 반환합니다.\n",
    "    \n",
    "    Parameters:\n",
    "        text (str): 분석할 텍스트\n",
    "    \n",
    "    Returns:\n",
    "        tuple: (첫 번째 정수, 두 번째 정수), 두 개를 못 찾으면 None\n",
    "    \"\"\"\n",
    "    # 정규표현식으로 '숫자%' 형태 추출\n",
    "    matches = re.findall(r'(\\d{2})%', text)\n",
    "    \n",
    "    if len(matches) >= 2:\n",
    "        # 앞에서 두 개만 정수로 변환해서 반환\n",
    "        return float(matches[0]), float(matches[1])\n",
    "    else:\n",
    "        return None"
   ]
  },
  {
   "cell_type": "code",
   "execution_count": 9,
   "id": "75873a97",
   "metadata": {},
   "outputs": [],
   "source": [
    "answers_float = []\n",
    "for text in answers:\n",
    "    if text is not None:\n",
    "        temp = extract_first_two_percent_values(text)\n",
    "        if temp is not None and temp[0] + temp[1] == 100:\n",
    "            answers_float.append(temp)"
   ]
  },
  {
   "cell_type": "code",
   "execution_count": 10,
   "id": "0ea0dc63",
   "metadata": {},
   "outputs": [
    {
     "data": {
      "text/plain": [
       "[(55.0, 45.0),\n",
       " (60.0, 40.0),\n",
       " (60.0, 40.0),\n",
       " (60.0, 40.0),\n",
       " (60.0, 40.0),\n",
       " (65.0, 35.0),\n",
       " (60.0, 40.0)]"
      ]
     },
     "execution_count": 10,
     "metadata": {},
     "output_type": "execute_result"
    }
   ],
   "source": [
    "answers_float\n",
    "\n",
    "up, down = 0, 0\n",
    "for u, d in answers_float:\n",
    "    up += u\n",
    "    down += d\n",
    "up = up / len(answers_float)\n",
    "down = down / len(answers_float)\n",
    "\n",
    "answers_float.append((round(up, 1), round(down, 1)))\n",
    "answers_float"
   ]
  },
  {
   "cell_type": "code",
   "execution_count": 11,
   "id": "3b042df2",
   "metadata": {},
   "outputs": [],
   "source": [
    "pd.DataFrame(answers_float, columns=['상승 확률', '하락 확률'], \n",
    "             index=[str(i)+\"회\" for i in range(1, len(answers_float))] + [\"평균\"]).to_csv(\"환율_확률_결과.csv\", encoding='utf-8')"
   ]
  },
  {
   "cell_type": "code",
   "execution_count": null,
   "id": "2fb783c8",
   "metadata": {},
   "outputs": [],
   "source": []
  },
  {
   "cell_type": "code",
   "execution_count": 12,
   "id": "238266ae",
   "metadata": {},
   "outputs": [
    {
     "name": "stdout",
     "output_type": "stream",
     "text": [
      "| 요인 | 설명 |\n",
      "| --- | --- |\n",
      "| 1. 국내 통화 정책 | 국내 통화 정책의 변화, 예를 들어 통화 보조금 감소 등이 원화의 가치를 상승시킬 수 있습니다. |\n",
      "| 2. 국제 통화 정책 | 외국의 중심국가들이 통화 정책을 변화시키는 경우, 해당 국가의 통화가 강화되면서 원화의 가치도 상승할 수 있습니다. |\n",
      "| 3. 국내 경제 성장 | 국내 경제의 성장이 빨라지면, 외국인 투자가 증가하고 원화의 수요가 늘어나면서 원화의 가치가 상승할 수 있습니다. |\n",
      "| 4. 외국인 투자 증가 | 외국인 투자가 증가하면, 원화의 수요가 늘어나고 원화의 가치가 상승할 수 있습니다. 이는 국내 기업의 가치 평가 상승, 국내 재정 수입 증가 등으로 인해 발생할 수 있습니다. |\n"
     ]
    }
   ],
   "source": [
    "\n",
    "question = \"\"\"\n",
    "2025년 5월 1일부터 오늘까지의 한국어/영어/중국어 기사 중 원/달러 환율과 달러화 내용을을 조사한 후,\n",
    "최근 기사에서 제시하는 원화의 통화 가치가 상승할 요인 4가지를 (요인 | 설명) [표] 형식 보여주세요.\n",
    "\"\"\"\n",
    "\n",
    "for i in range(5):\n",
    "    answer = ask_le_chat(api_key, question, temperature=0.2)\n",
    "    if \"| --- | --- |\" in answer:\n",
    "        break\n",
    "\n",
    "print(answer)"
   ]
  },
  {
   "cell_type": "code",
   "execution_count": 13,
   "id": "ce4a0533",
   "metadata": {},
   "outputs": [],
   "source": [
    "contents = []\n",
    "for i, text in enumerate(answer.split(\"\\n\")):\n",
    "    if i == 0:\n",
    "        continue\n",
    "    if \"| --- | --- |\" in text:\n",
    "        continue\n",
    "    if \"|\" in text:\n",
    "        temp = text.split(\"|\")[1:3]\n",
    "        contents.append(temp)"
   ]
  },
  {
   "cell_type": "code",
   "execution_count": 14,
   "id": "da3ca62a",
   "metadata": {},
   "outputs": [],
   "source": [
    "pd.DataFrame(contents, columns=['요인', '설명']).to_csv(\"원화_강세_요인.csv\", encoding='utf-8', index=False)"
   ]
  },
  {
   "cell_type": "code",
   "execution_count": 15,
   "id": "e143be08",
   "metadata": {},
   "outputs": [
    {
     "name": "stdout",
     "output_type": "stream",
     "text": [
      "| 요인 | 설명 |\n",
      "| --- | --- |\n",
      "| 1. 국내 경제 저조화 | 국내 경제 성장 속도의 저조화로 인해 외국인 투자 흐름이 줄어들어 원화의 가치가 하락합니다. |\n",
      "| 2. 외국 경제 불안정성 | 외국 경제 불안정성으로 인해 외국인 투자자들이 원화를 팔아 달러화로 변환하여 원화의 가치가 하락합니다. |\n",
      "| 3. 통화 정책 변동 | 통화 정책의 변동으로 인해 원화의 가치가 하락합니다. 예를 들어, 통화 정책으로 인한 원화 인플레이션 등이 있습니다. |\n",
      "| 4. 국제 금융 시장 변동 | 국제 금융 시장의 변동으로 인해 원화의 가치가 하락합니다. 예를 들어, 금융 시장의 리스크 평가에 따라 원화의 리스크 평가가 높아지면 원화의 가치가 하락할 수 있습니다. |\n"
     ]
    }
   ],
   "source": [
    "question = \"\"\"\n",
    "2025년 5월 1일부터 오늘까지의의 한국어/영어/중국어 기사 중 원/달러 환율과 달러화 내용을을 조사한 후,\n",
    "최근 기사에서 제시하는 원화의 통화 가치가 하락할 요인 4가지를 (요인 | 설명) [표] 형식 보여주세요.\n",
    "\"\"\"\n",
    "\n",
    "for i in range(5):\n",
    "    answer = ask_le_chat(api_key, question, temperature=0.2)\n",
    "    if \"| --- | --- |\" in answer:\n",
    "        break\n",
    "\n",
    "print(answer)"
   ]
  },
  {
   "cell_type": "code",
   "execution_count": 16,
   "id": "d6139d52",
   "metadata": {},
   "outputs": [],
   "source": [
    "contents = []\n",
    "for i, text in enumerate(answer.split(\"\\n\")):\n",
    "    if i == 0:\n",
    "        continue\n",
    "    if \"| --- | --- |\" in text:\n",
    "        continue\n",
    "    if \"|\" in text:\n",
    "        temp = text.split(\"|\")[1:3]\n",
    "        contents.append(temp)"
   ]
  },
  {
   "cell_type": "code",
   "execution_count": 20,
   "id": "aaf98ce3",
   "metadata": {},
   "outputs": [],
   "source": [
    "pd.DataFrame(contents, columns=['요인', '설명']).to_csv(\"원화_약세_요인.csv\", encoding='utf-8', index=False)"
   ]
  },
  {
   "cell_type": "code",
   "execution_count": 18,
   "id": "e3d21b03",
   "metadata": {},
   "outputs": [
    {
     "data": {
      "text/plain": [
       "[[' 1. 국내 경제 저조화 ', ' 국내 경제 성장 속도의 저조화로 인해 외국인 투자 흐름이 줄어들어 원화의 가치가 하락합니다. '],\n",
       " [' 2. 외국 경제 불안정성 ',\n",
       "  ' 외국 경제 불안정성으로 인해 외국인 투자자들이 원화를 팔아 달러화로 변환하여 원화의 가치가 하락합니다. '],\n",
       " [' 3. 통화 정책 변동 ',\n",
       "  ' 통화 정책의 변동으로 인해 원화의 가치가 하락합니다. 예를 들어, 통화 정책으로 인한 원화 인플레이션 등이 있습니다. '],\n",
       " [' 4. 국제 금융 시장 변동 ',\n",
       "  ' 국제 금융 시장의 변동으로 인해 원화의 가치가 하락합니다. 예를 들어, 금융 시장의 리스크 평가에 따라 원화의 리스크 평가가 높아지면 원화의 가치가 하락할 수 있습니다. ']]"
      ]
     },
     "execution_count": 18,
     "metadata": {},
     "output_type": "execute_result"
    }
   ],
   "source": [
    "contents"
   ]
  },
  {
   "cell_type": "code",
   "execution_count": 19,
   "id": "ce223bac",
   "metadata": {},
   "outputs": [
    {
     "data": {
      "text/html": [
       "<div>\n",
       "<style scoped>\n",
       "    .dataframe tbody tr th:only-of-type {\n",
       "        vertical-align: middle;\n",
       "    }\n",
       "\n",
       "    .dataframe tbody tr th {\n",
       "        vertical-align: top;\n",
       "    }\n",
       "\n",
       "    .dataframe thead th {\n",
       "        text-align: right;\n",
       "    }\n",
       "</style>\n",
       "<table border=\"1\" class=\"dataframe\">\n",
       "  <thead>\n",
       "    <tr style=\"text-align: right;\">\n",
       "      <th></th>\n",
       "      <th>요인</th>\n",
       "      <th>설명</th>\n",
       "    </tr>\n",
       "  </thead>\n",
       "  <tbody>\n",
       "    <tr>\n",
       "      <th>0</th>\n",
       "      <td>1. 국내 경제 저조화</td>\n",
       "      <td>국내 경제 성장 속도의 저조화로 인해 외국인 투자 흐름이 줄어들어 원화의 가치가 ...</td>\n",
       "    </tr>\n",
       "    <tr>\n",
       "      <th>1</th>\n",
       "      <td>2. 외국 경제 불안정성</td>\n",
       "      <td>외국 경제 불안정성으로 인해 외국인 투자자들이 원화를 팔아 달러화로 변환하여 원화...</td>\n",
       "    </tr>\n",
       "    <tr>\n",
       "      <th>2</th>\n",
       "      <td>3. 통화 정책 변동</td>\n",
       "      <td>통화 정책의 변동으로 인해 원화의 가치가 하락합니다. 예를 들어, 통화 정책으로 ...</td>\n",
       "    </tr>\n",
       "    <tr>\n",
       "      <th>3</th>\n",
       "      <td>4. 국제 금융 시장 변동</td>\n",
       "      <td>국제 금융 시장의 변동으로 인해 원화의 가치가 하락합니다. 예를 들어, 금융 시장...</td>\n",
       "    </tr>\n",
       "  </tbody>\n",
       "</table>\n",
       "</div>"
      ],
      "text/plain": [
       "                 요인                                                 설명\n",
       "0     1. 국내 경제 저조화    국내 경제 성장 속도의 저조화로 인해 외국인 투자 흐름이 줄어들어 원화의 가치가 ...\n",
       "1    2. 외국 경제 불안정성    외국 경제 불안정성으로 인해 외국인 투자자들이 원화를 팔아 달러화로 변환하여 원화...\n",
       "2      3. 통화 정책 변동    통화 정책의 변동으로 인해 원화의 가치가 하락합니다. 예를 들어, 통화 정책으로 ...\n",
       "3   4. 국제 금융 시장 변동    국제 금융 시장의 변동으로 인해 원화의 가치가 하락합니다. 예를 들어, 금융 시장..."
      ]
     },
     "execution_count": 19,
     "metadata": {},
     "output_type": "execute_result"
    }
   ],
   "source": [
    "pd.DataFrame(contents, columns=['요인', '설명'])"
   ]
  },
  {
   "cell_type": "code",
   "execution_count": null,
   "id": "a3d8d246",
   "metadata": {},
   "outputs": [],
   "source": []
  }
 ],
 "metadata": {
  "kernelspec": {
   "display_name": "base",
   "language": "python",
   "name": "python3"
  },
  "language_info": {
   "codemirror_mode": {
    "name": "ipython",
    "version": 3
   },
   "file_extension": ".py",
   "mimetype": "text/x-python",
   "name": "python",
   "nbconvert_exporter": "python",
   "pygments_lexer": "ipython3",
   "version": "3.9.21"
  }
 },
 "nbformat": 4,
 "nbformat_minor": 5
}
